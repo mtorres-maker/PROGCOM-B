{
  "cells": [
    {
      "cell_type": "markdown",
      "metadata": {
        "id": "Jmlb1YNZYMfU"
      },
      "source": [
        "11. Escribe un programa que calcule el índice de masa corporal (IMC) y determine la categoría (bajo peso, normal, sobrepeso, obesidad). Al final, el programa debe imprimir: el nombre del usuario, su categoría y una breve descripción de lo que debe hacer de acuerdo a su categoría."
      ]
    },
    {
      "cell_type": "code",
      "source": [],
      "metadata": {
        "id": "MjGzPcqbxiZc"
      },
      "execution_count": null,
      "outputs": []
    },
    {
      "cell_type": "code",
      "execution_count": null,
      "metadata": {
        "id": "LdDn5rp-XnSV"
      },
      "outputs": [],
      "source": [
        "for IMC in range(1,3):\n",
        "  N=(input(print(\"Ingrese su nombre\")))\n",
        "  P=int(input(print(\"Ingrese su peso en Kg\")))\n",
        "  E=float(input(print(\"Ingrese su estatura en metros\")))\n",
        "  IMC=P/(E**2)\n",
        "  if IMC<=18.5:\n",
        "    print(f\"{N} Usted esta en un peso bajo, su IMC es de {IMC}\")\n",
        "  if IMC>=18.5 and IMC<=24.9:\n",
        "    print(f\"{N} Usted esta en un peso normal, su IMC es de {IMC}\")\n",
        "  if IMC>=25 and IMC<=29.9:\n",
        "    print(f\"{N} Usted esta en sobrepeso, su IMC es de {IMC}\")\n",
        "  if IMC>=30:\n",
        "    print(f\"{N} Usted esta en obesidad, su IMC es de {IMC}\")"
      ]
    },
    {
      "cell_type": "markdown",
      "metadata": {
        "id": "vQWZ90Tgcvd4"
      },
      "source": [
        "12. Desarrolla un programa que simule una calculadora simple (+, -, *, /) con dos números."
      ]
    },
    {
      "cell_type": "code",
      "execution_count": null,
      "metadata": {
        "id": "u7C3SRHIc7XA"
      },
      "outputs": [],
      "source": [
        "for R in range(1,4):\n",
        "  A1=float(input(print(\"Ingrese un numero\")))\n",
        "  A2=float(input(print(\"Ingrese otro numero\")))\n",
        "  R1=input(\"Para sumar ingrese +,Para restar ingrese -, Para multiplicar ingrese *,Para dividir ingrese /\")\n",
        "  if R1==\"+\":\n",
        "    print(\"El resultado es:\")\n",
        "    print(F\"{A1}+{A2}={A1+A2}\")\n",
        "  elif R1==\"-\":\n",
        "    print(\"El resultado es:\")\n",
        "    print(F\"{A1}-{A2}={A1-A2}\")\n",
        "  elif R1==\"*\":\n",
        "    print(\"El resultado es:\")\n",
        "    print(F\"{A1}*{A2}={A1*A2}\")\n",
        "  elif R1==\"/\":\n",
        "    print(\"El resultado es:\")\n",
        "    print(F\"{A1}/{A2}={A1/A2}\")\n",
        "  else:\n",
        "    print(\"Error\")"
      ]
    },
    {
      "cell_type": "code",
      "execution_count": null,
      "metadata": {
        "id": "H4ti5dmGrUwE"
      },
      "outputs": [],
      "source": [
        "def calculadora():\n",
        "    while True:\n",
        "        print(\"Operaciones disponibles:\")\n",
        "        print(\"1. Suma\")\n",
        "        print(\"2. Resta\")\n",
        "        print(\"3. Multiplicación\")\n",
        "        print(\"4. División\")\n",
        "        opcion = input(\"Selecciona una operación (1/2/3/4): \")\n",
        "        if opcion not in ['1', '2', '3', '4']:\n",
        "            print(\"Opción no válida. Intenta de nuevo.\")\n",
        "            continue\n",
        "        num1 = input(\"Ingresa el primer número: \")\n",
        "        num2 = input(\"Ingresa el segundo número: \")\n",
        "        if not num1.replace('.', '', 1).isdigit() or not num2.replace('.', '', 1).isdigit():\n",
        "            print(\"Por favor, ingresa números válidos.\")\n",
        "            continue\n",
        "        num1 = float(num1)\n",
        "        num2 = float(num2)\n",
        "        if opcion == '1':\n",
        "            resultado = num1 + num2\n",
        "            print(f\"{num1} + {num2} = {resultado}\")\n",
        "        elif opcion == '2':\n",
        "            resultado = num1 - num2\n",
        "            print(f\"{num1} - {num2} = {resultado}\")\n",
        "        elif opcion == '3':\n",
        "            resultado = num1 * num2\n",
        "            print(f\"{num1} * {num2} = {resultado}\")\n",
        "        elif opcion == '4':\n",
        "            if num2 == 0:\n",
        "                print(\"Error: No se puede dividir entre 0.\")\n",
        "            else:\n",
        "                resultado = num1 / num2\n",
        "                print(f\"{num1} / {num2} = {resultado}\")\n",
        "        continuar = input(\"¿Quieres realizar otra operación? (sí/no): \").lower()\n",
        "        if continuar != 'sí':\n",
        "            print(\"Saliendo de la calculadora...\")\n",
        "            break"
      ]
    },
    {
      "cell_type": "markdown",
      "metadata": {
        "id": "A_TLOPF2h_s2"
      },
      "source": [
        "13. Crea un programa que determine la calificación en letras (A, B, C, D, F) según una nota numérica (0-100)."
      ]
    },
    {
      "cell_type": "code",
      "execution_count": null,
      "metadata": {
        "id": "Z2WQ5N2qh_Wt"
      },
      "outputs": [],
      "source": [
        "\n",
        "for C in range(1,4):\n",
        "  C1=input(print(\"Ingrese su nota\"))\n",
        "  if C1==\"A\":\n",
        "    print(\"Su nota es:\")\n",
        "    print(\"100\")\n",
        "  elif C1==\"B\":\n",
        "    print(\"Su nota es:\")\n",
        "    print(\"80\")\n",
        "  elif C1==\"C\":\n",
        "    print(\"Su nota es:\")\n",
        "    print(\"60\")\n",
        "  elif C1==\"D\":\n",
        "    print(\"Su nota es:\")\n",
        "    print(\"40\")\n",
        "  elif C1==\"F\":\n",
        "    print(\"Su nota es:\")\n",
        "    print(\"20\")\n",
        "  else:\n",
        "    print(\"Error\")"
      ]
    },
    {
      "cell_type": "markdown",
      "metadata": {
        "id": "QdJ5uaTPjzvT"
      },
      "source": [
        "14. Escribe un programa que determine el día de la semana según un número (1-7)."
      ]
    },
    {
      "cell_type": "code",
      "execution_count": null,
      "metadata": {
        "id": "ZeXKp6n_j5lq"
      },
      "outputs": [],
      "source": [
        "for Dia in range(1,4):\n",
        "  Dia=int(input(print(\"Ingrese un numero del 1 al 7 para saber que dia de la semana es\")))\n",
        "  if Dia==1:\n",
        "    print(\"Es Lunes\")\n",
        "  elif Dia==2:\n",
        "    print(\"Es Martes\")\n",
        "  elif Dia==3:\n",
        "    print(\"Es Miercoles\")\n",
        "  elif Dia==4:\n",
        "    print(\"Es Jueves\")\n",
        "  elif Dia==5:\n",
        "    print(\"Es Viernes\")\n",
        "  elif Dia==6:\n",
        "    print(\"Es Sabado\")\n",
        "  elif Dia==7:\n",
        "    print(\"Es Domingo\")\n",
        "  else:\n",
        "    print(\"Error\")"
      ]
    },
    {
      "cell_type": "markdown",
      "metadata": {
        "id": "t5A1VUQMlc-B"
      },
      "source": [
        "15. Desarrolla un programa que valide si tres números pueden formar un triángulo y de qué tipo es."
      ]
    },
    {
      "cell_type": "code",
      "execution_count": null,
      "metadata": {
        "colab": {
          "background_save": true,
          "base_uri": "https://localhost:8080/"
        },
        "id": "Ih-NN4KPlcsK",
        "outputId": "9aad415e-1d5b-4727-90d1-c78ed30d4d45"
      },
      "outputs": [
        {
          "metadata": {
            "tags": null
          },
          "name": "stdout",
          "output_type": "stream",
          "text": [
            "Ingrese un lado del triangulo en metros\n"
          ]
        }
      ],
      "source": [
        "for Triangulo in range(1,4):\n",
        "  L1=int(input(print(\"Ingrese un lado del triangulo en metros\")))\n",
        "  L2=int(input(print(\"Ingrese un lado del triangulo en metros\")))\n",
        "  L3=int(input(print(\"Ingrese un lado del triangulo en metros\")))\n",
        "  if (L1+L2>=L3) and (L2+L3>=L1) and (L3+L1>=L2):\n",
        "    print(\"El triangulo es valido\")\n",
        "    if L1==L2 and L2==L3:\n",
        "      print(\"El triangulo es equilatero\")\n",
        "    elif L1==L2 or L2==L3 or L1==L3:\n",
        "      print(\"El triangulo es isoceles\")\n",
        "    else:\n",
        "     print(\"El triangulo es escaleno\")\n",
        "  else:\n",
        "    print(\"El triangulo no es valido\")"
      ]
    },
    {
      "cell_type": "code",
      "execution_count": null,
      "metadata": {
        "id": "3csgHkY_r8dz"
      },
      "outputs": [],
      "source": [
        "Lado1 = 0\n",
        "while lado1 <= 0:\n",
        "  lado1 = int(input(\"Ingresa el primer lado: \"))\n",
        "  if lado1 <= 0:\n",
        "    print(\"El lado debe ser mayor a 0\")\n",
        "\n",
        "lado2 = 0\n",
        "while lado2 <= 0:\n",
        "  lado2 = int(input(\"Ingresa el segundo lado: \"))\n",
        "  if lado2 <= 0:\n",
        "    print(\"El lado debe ser mayor a 0\")\n",
        "\n",
        "lado3 = 0\n",
        "while lado3 <= 0:\n",
        "  lado3 = int(input(\"Ingresa el tercer lado: \"))\n",
        "  if lado3 <= 0:\n",
        "    print(\"El lado debe ser mayor a 0\")\n",
        "\n",
        "if(lado1 + lado2 > lado3 and lado1 + lado3 > lado2 and lado2 + lado3 > lado1):\n",
        "  print(\"Se puede formar un triangulo\")\n",
        "  if(lado1 == lado2 and lado2 == lado3):\n",
        "    print(\"El triangulo es equilatero\")\n",
        "  elif(lado1 == lado2 or lado1 == lado3 or lado2 == lado3):\n",
        "    print(\"El triangulo es isoceles\")\n",
        "  else:\n",
        "    print(\"El triangulo es escaleno\")\n",
        "else:\n",
        "  print(\"No se puede formar un triangulo\")\n",
        "\n"
      ]
    }
  ],
  "metadata": {
    "colab": {
      "provenance": []
    },
    "kernelspec": {
      "display_name": "Python 3",
      "name": "python3"
    },
    "language_info": {
      "name": "python"
    }
  },
  "nbformat": 4,
  "nbformat_minor": 0
}