{
  "nbformat": 4,
  "nbformat_minor": 0,
  "metadata": {
    "colab": {
      "provenance": [],
      "authorship_tag": "ABX9TyPrRRF7RG66yNXa3igCZSL9",
      "include_colab_link": true
    },
    "kernelspec": {
      "name": "python3",
      "display_name": "Python 3"
    },
    "language_info": {
      "name": "python"
    }
  },
  "cells": [
    {
      "cell_type": "markdown",
      "metadata": {
        "id": "view-in-github",
        "colab_type": "text"
      },
      "source": [
        "<a href=\"https://colab.research.google.com/github/mtorres-maker/PROGCOM-B/blob/main/Ejercicios_20_30_usando_lambda_y_comprensi%C3%B3n.ipynb\" target=\"_parent\"><img src=\"https://colab.research.google.com/assets/colab-badge.svg\" alt=\"Open In Colab\"/></a>"
      ]
    },
    {
      "cell_type": "markdown",
      "source": [
        "20. Escribe un programa que adivine entre un conjunto de diez colores definidos por el usuario, con un máximo de 10 intentos."
      ],
      "metadata": {
        "id": "c8nZPHIkkl4O"
      }
    },
    {
      "cell_type": "code",
      "source": [
        "import random\n",
        "\n",
        "def color():\n",
        "    colores = [\"Azul\", \"Amarillo\", \"Rojo\", \"Verde\", \"Naranja\", \"Morado\", \"Blanco\", \"Negro\"]\n",
        "    print(\"Los colores a adivinar son: Azul, Amarillo, Rojo, Verde, Naranja, Morado, Blanco, Negro\")\n",
        "\n",
        "    # Elegir un color secreto aleatorio\n",
        "    color_secreto = random.choice(colores)\n",
        "\n",
        "    # Inicializar el contador de intentos\n",
        "    intentos = 3\n",
        "\n",
        "    # Usar comprensión de listas para los intentos\n",
        "    for _ in range(3):\n",
        "        if intentos > 0:\n",
        "            adivinanza = input(\"Adivina el color:\")\n",
        "            if adivinanza == color_secreto:\n",
        "                print(\"Correcto\")\n",
        "                break\n",
        "            else:\n",
        "                print(\"Incorrecto\")\n",
        "                intentos -= 1\n",
        "\n",
        "    if intentos == 0:\n",
        "        print(f\"Se acabaron los intentos. El color secreto era {color_secreto}.\")\n",
        "\n",
        "if __name__ == \"__main__\":\n",
        "    color()"
      ],
      "metadata": {
        "id": "Qk7yyxoAnN09"
      },
      "execution_count": null,
      "outputs": []
    },
    {
      "cell_type": "code",
      "execution_count": null,
      "metadata": {
        "id": "63k3exrYkNpM"
      },
      "outputs": [],
      "source": [
        "import random\n",
        "\n",
        "def color():\n",
        "    colores = [\"Azul\", \"Amarillo\", \"Rojo\", \"Verde\", \"Naranja\", \"Morado\", \"Blanco\", \"Negro\"]\n",
        "    print(\"Los colores a adivinar son: Azul, Amarillo, Rojo, Verde, Naranja, Morado, Blanco, Negro\")\n",
        "\n",
        "    color_secreto = random.choice(colores)\n",
        "\n",
        "    intentos = 3\n",
        "\n",
        "    adivinar = lambda intentos_restantes, secreto: (\n",
        "        print(f\"Se acabaron los intentos. El color secreto era {secreto}.\")\n",
        "        if intentos_restantes == 0\n",
        "        else (\n",
        "            print(\"Correcto\")\n",
        "            if input(\"Adivina el color:\") == secreto\n",
        "            else (\n",
        "                print(\"Incorrecto\"),\n",
        "                adivinar(intentos_restantes - 1, secreto)\n",
        "            )[1]\n",
        "        )\n",
        "    )\n",
        "\n",
        "    adivinar(intentos, color_secreto)\n",
        "\n",
        "if __name__ == \"__main__\":\n",
        "    color()"
      ]
    },
    {
      "cell_type": "markdown",
      "source": [
        "21. Desarrolla un programa que muestre los números pares del 1 al 100.\n"
      ],
      "metadata": {
        "id": "2bVuTJJypHHv"
      }
    },
    {
      "cell_type": "code",
      "source": [
        "print(\"Números pares del 1 al 100:\")\n",
        "\n",
        "numeros_pares = [numero for numero in range(1, 101) if numero % 2 == 0]\n",
        "\n",
        "for numero in numeros_pares:\n",
        "    print(numero, end=\" \")"
      ],
      "metadata": {
        "id": "BCq8Zepqp4Nc"
      },
      "execution_count": null,
      "outputs": []
    },
    {
      "cell_type": "code",
      "source": [
        "espar = lambda x: x % 2 == 0\n",
        "\n",
        "numeros = list(range(1, 101))\n",
        "\n",
        "numerospares = list(filter(espar, numeros))\n",
        "\n",
        "print(\"Números pares del 1 al 100:\")\n",
        "for numero in numerospares:\n",
        "    print(numero, end=\" \")\n"
      ],
      "metadata": {
        "id": "6zy0kI2vpnTl"
      },
      "execution_count": null,
      "outputs": []
    },
    {
      "cell_type": "markdown",
      "source": [
        "22. Crea un programa que calcule la suma de los dígitos de un número.\n"
      ],
      "metadata": {
        "id": "wC6t6sBhpM2u"
      }
    },
    {
      "cell_type": "code",
      "source": [
        "suma_digitos = lambda numero: sum(int(digito) for digito in str(numero))\n",
        "\n",
        "numero = int(input(\"Ingresa un número: \"))\n",
        "\n",
        "resultado = suma_digitos(numero)\n",
        "\n",
        "print(f\"La suma de los dígitos de {numero} es: {resultado}\")\n",
        "{numero}\n",
        "{str(numero)}\n",
        "{', '.join(str(numero))}\n",
        "{int(digito) for digito in str(numero)}\n",
        "print(f\"Suma de los dígitos: {sum(int(digito) for digito in str(numero))}\")"
      ],
      "metadata": {
        "id": "Z9EuoVwgq3jy"
      },
      "execution_count": null,
      "outputs": []
    },
    {
      "cell_type": "code",
      "source": [
        "suma_digitos = lambda numero: sum([int(digito) for digito in str(numero)])\n",
        "\n",
        "numero = int(input(\"Ingresa un número: \"))\n",
        "\n",
        "resultado = suma_digitos(numero)\n",
        "\n",
        "print(f\"La suma de los dígitos de {numero} es: {resultado}\")\n",
        "\n"
      ],
      "metadata": {
        "id": "b5wLav1tt6Y0"
      },
      "execution_count": null,
      "outputs": []
    },
    {
      "cell_type": "markdown",
      "source": [
        "23. Escribe un programa que determine si un número es primo."
      ],
      "metadata": {
        "id": "afYxsRB_vCF2"
      }
    },
    {
      "cell_type": "code",
      "source": [
        "esprimo = lambda num: all(num % i != 0 for i in range(2, num)) if num > 1 else False\n",
        "\n",
        "numero = int(input(\"Ingresa un número para verificar si es primo: \"))\n",
        "\n",
        "if esprimo(numero):\n",
        "    print(f\"El número {numero} es primo.\")\n",
        "else:\n",
        "    print(f\"El número {numero} no es primo.\")\n"
      ],
      "metadata": {
        "id": "W1IumqGhu6Hm"
      },
      "execution_count": null,
      "outputs": []
    },
    {
      "cell_type": "code",
      "source": [
        "esprimo = lambda num: all(num % i != 0 for i in range(2, num)) if num > 1 else False\n",
        "\n",
        "numero = int(input(\"Ingresa un número para verificar si es primo: \"))\n",
        "\n",
        "if esprimo(numero):\n",
        "    print(f\"El número {numero} es primo.\")\n",
        "else:\n",
        "    print(f\"El número {numero} no es primo.\")\n"
      ],
      "metadata": {
        "id": "zIt3DcgMvPPw"
      },
      "execution_count": null,
      "outputs": []
    },
    {
      "cell_type": "markdown",
      "source": [
        "24. Desarrolla un programa que muestre el patrón de un triángulo con asteriscos."
      ],
      "metadata": {
        "id": "HhIur14-vZNu"
      }
    },
    {
      "cell_type": "code",
      "source": [
        "altura = int(input(\"Ingresa la altura del triángulo: \"))\n",
        "\n",
        "imprimir_fila = lambda n: print('*' * n)\n",
        "\n",
        "for i in range(1, altura + 1):\n",
        "    imprimir_fila(i)"
      ],
      "metadata": {
        "id": "-Cg14fxNwUZa"
      },
      "execution_count": null,
      "outputs": []
    },
    {
      "cell_type": "code",
      "source": [
        "altura = int(input(\"Ingresa la altura del triángulo: \"))\n",
        "\n",
        "[print('*' * i) for i in range(1, altura + 1)]"
      ],
      "metadata": {
        "id": "14URIKF8wsXh"
      },
      "execution_count": null,
      "outputs": []
    },
    {
      "cell_type": "markdown",
      "source": [
        "25.Crea un programa que calcule la potencia de un número sin usar el operador **."
      ],
      "metadata": {
        "id": "PDHGIjMmwy_S"
      }
    },
    {
      "cell_type": "code",
      "source": [
        "potencia = lambda base, exponente: base * potencia(base, exponente - 1) if exponente > 0 else 1\n",
        "\n",
        "base = int(input(\"Ingresa la base: \"))\n",
        "exponente = int(input(\"Ingresa el exponente: \"))\n",
        "\n",
        "resultado = potencia(base, exponente)\n",
        "print(f\"{base} elevado a {exponente} es: {resultado}\")"
      ],
      "metadata": {
        "colab": {
          "base_uri": "https://localhost:8080/"
        },
        "id": "ZrVieNYyw33I",
        "outputId": "79f86401-28aa-407f-ed4c-4c01595ae677"
      },
      "execution_count": 26,
      "outputs": [
        {
          "output_type": "stream",
          "name": "stdout",
          "text": [
            "Ingresa la base:    7\n",
            "Ingresa el exponente: 2\n",
            "7 elevado a 2 es: 49\n"
          ]
        }
      ]
    },
    {
      "cell_type": "code",
      "source": [
        "base = int(input(\"Ingresa la base: \"))\n",
        "exponente = int(input(\"Ingresa el exponente: \"))\n",
        "\n",
        "resultado = [base for _ in range(exponente)]\n",
        "\n",
        "potencia = 1\n",
        "for num in resultado:\n",
        "    potencia *= num\n",
        "\n",
        "print(f\"{base} elevado a {exponente} es: {potencia}\")\n"
      ],
      "metadata": {
        "colab": {
          "base_uri": "https://localhost:8080/"
        },
        "id": "IcoX5icex4uu",
        "outputId": "830300a4-bd44-4dd0-fd4b-fb50a78b00c6"
      },
      "execution_count": 27,
      "outputs": [
        {
          "output_type": "stream",
          "name": "stdout",
          "text": [
            "Ingresa la base: 2\n",
            "Ingresa el exponente: 2\n",
            "2 elevado a 2 es: 4\n"
          ]
        }
      ]
    }
  ]
}