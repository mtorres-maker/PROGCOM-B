{
  "nbformat": 4,
  "nbformat_minor": 0,
  "metadata": {
    "colab": {
      "provenance": []
    },
    "kernelspec": {
      "name": "python3",
      "display_name": "Python 3"
    },
    "language_info": {
      "name": "python"
    }
  },
  "cells": [
    {
      "cell_type": "code",
      "source": [
        "def flexionar_brazo (izquierda,derecha):\n",
        "  for i in range(1):\n",
        "    for z in range (izquierda):\n",
        "      print (\"Flexionar brazo izquierdo\")\n",
        "    for j in range (derecha):\n",
        "      print (\"Flexionar brazo derecho\")\n",
        "  print (\"Flexionar brazo izquierdo\")"
      ],
      "metadata": {
        "id": "M09Wxj0xBOh2"
      },
      "execution_count": 1,
      "outputs": []
    },
    {
      "cell_type": "code",
      "source": [
        "flexionar_brazo(1,1)"
      ],
      "metadata": {
        "colab": {
          "base_uri": "https://localhost:8080/"
        },
        "id": "2XAbVQhnBPOF",
        "outputId": "fb24f486-82c1-4b90-e1c7-72f8a4addc87"
      },
      "execution_count": 2,
      "outputs": [
        {
          "output_type": "stream",
          "name": "stdout",
          "text": [
            "Flexionar brazo izquierdo\n",
            "Flexionar brazo derecho\n",
            "Flexionar brazo izquierdo\n"
          ]
        }
      ]
    },
    {
      "cell_type": "code",
      "source": [
        "def Cruce_giro (cruce,giro):\n",
        "  for i in range(1):\n",
        "    print(\"salto y giro media vuelta\")\n",
        "    for z in range (cruce):\n",
        "      pass"
      ],
      "metadata": {
        "id": "Li1CmGpHBSwu"
      },
      "execution_count": 16,
      "outputs": []
    },
    {
      "cell_type": "code",
      "source": [
        "Cruce_giro(1,1)"
      ],
      "metadata": {
        "colab": {
          "base_uri": "https://localhost:8080/"
        },
        "id": "2qIDsBDnBTg-",
        "outputId": "1ed2d2b8-681d-4cf6-b81a-9782d5d550d6"
      },
      "execution_count": 17,
      "outputs": [
        {
          "output_type": "stream",
          "name": "stdout",
          "text": [
            "salto y giro media vuelta\n"
          ]
        }
      ]
    },
    {
      "cell_type": "code",
      "source": [
        "def flexionar_brazo2 (derecha, izquierda):\n",
        "  for i in range(1):\n",
        "    for z in range (derecha):\n",
        "      print (\"Flexionar brazo derecho\")\n",
        "    for j in range (izquierda):\n",
        "      print (\"Flexionar brazo izquierdo\")\n",
        "  print (\"Flexionar brazo derecho\")\n",
        "  print(\"\")"
      ],
      "metadata": {
        "id": "3uDNFQrFB2OG"
      },
      "execution_count": 8,
      "outputs": []
    },
    {
      "cell_type": "code",
      "source": [
        "flexionar_brazo2(1,1)"
      ],
      "metadata": {
        "colab": {
          "base_uri": "https://localhost:8080/"
        },
        "id": "KhJKT_PqBt_2",
        "outputId": "4d903a8b-39b5-4a88-c5be-d04887ac7389"
      },
      "execution_count": 9,
      "outputs": [
        {
          "output_type": "stream",
          "name": "stdout",
          "text": [
            "Flexionar brazo derecho\n",
            "Flexionar brazo izquierdo\n",
            "Flexionar brazo derecho\n"
          ]
        }
      ]
    },
    {
      "cell_type": "code",
      "source": [
        "print(\"salto 90 grados hacia la izquierda\")\n",
        "def Cruce_giro2 (cruce,giro):\n",
        "  for i in range(1):\n",
        "    for z in range (1):\n",
        "      print(\"cruce de piernas, salto y giro media vuelta\")\n",
        "      return Cruce_giro(cruce,giro)"
      ],
      "metadata": {
        "colab": {
          "base_uri": "https://localhost:8080/"
        },
        "id": "NintdZQqC2nF",
        "outputId": "3d02634d-993d-4951-d9db-b5da0bbf5c5b"
      },
      "execution_count": 43,
      "outputs": [
        {
          "output_type": "stream",
          "name": "stdout",
          "text": [
            "salto 90 grados hacia la izquierda\n"
          ]
        }
      ]
    },
    {
      "cell_type": "code",
      "source": [
        "Cruce_giro2(1,1)"
      ],
      "metadata": {
        "colab": {
          "base_uri": "https://localhost:8080/"
        },
        "id": "stvnxFaZDQX1",
        "outputId": "da32407d-b4fc-4624-fa10-f6153338f46f"
      },
      "execution_count": 44,
      "outputs": [
        {
          "output_type": "stream",
          "name": "stdout",
          "text": [
            "cruce de piernas, salto y giro media vuelta\n",
            "cruzar las piernas\n",
            "salto y giro media vuelta\n"
          ]
        }
      ]
    },
    {
      "cell_type": "code",
      "source": [
        "def flexionar_extremidades(derecha_brazo, derecha_pierna, izquierda_pierna, izquierda_brazo):\n",
        "    for _ in range(3):\n",
        "        for _ in range(derecha_brazo):\n",
        "            print(\"Flexionar brazo derecho\")\n",
        "        for _ in range(derecha_pierna):\n",
        "            print(\"Flexionar pierna derecha\")\n",
        "        for _ in range(izquierda_pierna):\n",
        "            print(\"Flexionar pierna izquierda\")\n",
        "        for _ in range(izquierda_brazo):\n",
        "            print(\"Flexionar brazo izquierdo\")"
      ],
      "metadata": {
        "id": "8pkVtwbFBXjm"
      },
      "execution_count": 51,
      "outputs": []
    },
    {
      "cell_type": "code",
      "source": [
        "flexionar_extremidades(1, 1, 1, 1)\n"
      ],
      "metadata": {
        "colab": {
          "base_uri": "https://localhost:8080/"
        },
        "id": "Fmvio0UfBaR2",
        "outputId": "92930334-aa37-42fa-c11b-a18612fd5854"
      },
      "execution_count": 52,
      "outputs": [
        {
          "output_type": "stream",
          "name": "stdout",
          "text": [
            "Flexionar brazo derecho\n",
            "Flexionar pierna derecha\n",
            "Flexionar pierna izquierda\n",
            "Flexionar brazo izquierdo\n",
            "Flexionar brazo derecho\n",
            "Flexionar pierna derecha\n",
            "Flexionar pierna izquierda\n",
            "Flexionar brazo izquierdo\n",
            "Flexionar brazo derecho\n",
            "Flexionar pierna derecha\n",
            "Flexionar pierna izquierda\n",
            "Flexionar brazo izquierdo\n"
          ]
        }
      ]
    },
    {
      "cell_type": "code",
      "source": [
        "def buscando(repeticiones):\n",
        "    for _ in range(repeticiones):\n",
        "        print(\"Mirar hacia el lado derecho\")\n",
        "        print(\"flexionar brazo derecho y llevar mano derecha la frente\")\n",
        "        print(\"extender un poco el brazo derecho\")\n",
        "        print(\"Bajar el brazo derecho\")\n",
        "        for _ in range(1):\n",
        "         print(\"Mirar hacia el lado izquierdo\")\n",
        "         print(\"flexionar brazo izquierdo y llevar mano izquierda a la frente\")\n",
        "         print(\"Extender un poco el brazo izquierdo\")\n",
        "         print(\"Bajar el brazo izquierdo\")"
      ],
      "metadata": {
        "id": "eiFZUilkCbrF"
      },
      "execution_count": 61,
      "outputs": []
    },
    {
      "cell_type": "code",
      "source": [
        "buscando(1)"
      ],
      "metadata": {
        "colab": {
          "base_uri": "https://localhost:8080/"
        },
        "id": "Zk41FYs0FoKU",
        "outputId": "764b6254-068a-40b8-82de-ea22ad5cc6cb"
      },
      "execution_count": 62,
      "outputs": [
        {
          "output_type": "stream",
          "name": "stdout",
          "text": [
            "Mirar hacia el lado derecho\n",
            "flexionar brazo derecho y llevar mano derecha la frente\n",
            "extender un poco el brazo derecho\n",
            "Bajar el brazo derecho\n",
            "Mirar hacia el lado izquierdo\n",
            "flexionar brazo izquierdo y llevar mano izquierda a la frente\n",
            "Extender un poco el brazo izquierdo\n",
            "Bajar el brazo izquierdo\n"
          ]
        }
      ]
    },
    {
      "cell_type": "code",
      "source": [
        "def tambor(arriba,abajo):\n",
        "    for _ in range(abajo):\n",
        "        print(\"juntar ambas manos\")\n",
        "        print(\"extender las manos hacia abajo\")\n",
        "        for _ in range(arriba):\n",
        "         print(\"extender las manos hacia arriba\")\n",
        "         pass"
      ],
      "metadata": {
        "id": "p5BHmj3KBc4W"
      },
      "execution_count": 76,
      "outputs": []
    },
    {
      "cell_type": "code",
      "source": [
        "tambor(1,2)"
      ],
      "metadata": {
        "colab": {
          "base_uri": "https://localhost:8080/"
        },
        "id": "aZH59GMuBd3_",
        "outputId": "e3c3ca5a-8cf5-49ab-c064-a4e22745699e"
      },
      "execution_count": 79,
      "outputs": [
        {
          "output_type": "stream",
          "name": "stdout",
          "text": [
            "juntar ambas manos\n",
            "extender las manos hacia abajo\n",
            "extender las manos hacia arriba\n",
            "juntar ambas manos\n",
            "extender las manos hacia abajo\n",
            "extender las manos hacia arriba\n"
          ]
        }
      ]
    },
    {
      "cell_type": "code",
      "source": [
        "def salto_puño(salto,puño):\n",
        "    for _ in range(salto):\n",
        "        print(\"saltar en el mismo puesto\")\n",
        "        for _ in range(puño):\n",
        "         print(\"puño hacia arriba\")\n",
        "         pass"
      ],
      "metadata": {
        "id": "jP0qK9LQI2Tz"
      },
      "execution_count": 80,
      "outputs": []
    },
    {
      "cell_type": "code",
      "source": [
        "salto_puño(2,1)"
      ],
      "metadata": {
        "colab": {
          "base_uri": "https://localhost:8080/"
        },
        "id": "uA6lOjZwJK2t",
        "outputId": "1559b7e2-4bb5-4d71-d67b-7c0cbc14f59f"
      },
      "execution_count": 84,
      "outputs": [
        {
          "output_type": "stream",
          "name": "stdout",
          "text": [
            "saltar en el mismo puesto\n",
            "puño hacia arriba\n",
            "saltar en el mismo puesto\n",
            "puño hacia arriba\n"
          ]
        }
      ]
    },
    {
      "cell_type": "code",
      "source": [
        "print(\"Agacharse\")"
      ],
      "metadata": {
        "colab": {
          "base_uri": "https://localhost:8080/"
        },
        "id": "jj9PlagqHPSU",
        "outputId": "3859b701-4553-47dd-d4df-02f5c8f9bcf4"
      },
      "execution_count": 83,
      "outputs": [
        {
          "output_type": "stream",
          "name": "stdout",
          "text": [
            "Agacharse\n"
          ]
        }
      ]
    },
    {
      "cell_type": "code",
      "source": [
        "def escalera(manod,manoi):\n",
        "    for _ in range(manod):\n",
        "        print(\"flexiona el braso y pon la mano dereha sobre mano izquierda\")\n",
        "        for _ in range(manoi):\n",
        "         print(\"flexiona el braso y pon la mano izquierda sobre mano dercha\")\n",
        "         pass"
      ],
      "metadata": {
        "id": "BYHK4sJAJb7U"
      },
      "execution_count": 14,
      "outputs": []
    },
    {
      "cell_type": "code",
      "source": [
        " escalera(1,1)"
      ],
      "metadata": {
        "colab": {
          "base_uri": "https://localhost:8080/"
        },
        "id": "tZ32j9sKKdEK",
        "outputId": "d7b723fd-b025-45ff-cf72-15576cc7a396"
      },
      "execution_count": 15,
      "outputs": [
        {
          "output_type": "stream",
          "name": "stdout",
          "text": [
            "flexiona el braso y pon la mano dereha sobre mano izquierda\n",
            "flexiona el braso y pon la mano izquierda sobre mano dercha\n"
          ]
        }
      ]
    },
    {
      "cell_type": "code",
      "source": [
        "escalera(1,1)"
      ],
      "metadata": {
        "colab": {
          "base_uri": "https://localhost:8080/"
        },
        "id": "mlJ1SoNrMAWT",
        "outputId": "0bff4386-cafc-4724-f28e-3cf2f78f6d47"
      },
      "execution_count": 16,
      "outputs": [
        {
          "output_type": "stream",
          "name": "stdout",
          "text": [
            "flexiona el braso y pon la mano dereha sobre mano izquierda\n",
            "flexiona el braso y pon la mano izquierda sobre mano dercha\n"
          ]
        }
      ]
    },
    {
      "cell_type": "code",
      "source": [
        "print(\"Gira 90 grados hacia la derecha\")\n",
        "print(\"Extienda los brazos hacia los lados\")\n",
        "print(\"Cruce los brazos\")"
      ],
      "metadata": {
        "colab": {
          "base_uri": "https://localhost:8080/"
        },
        "id": "mtQKc_-VMIvR",
        "outputId": "5ee3f1be-c88d-443b-8667-4d00f413c2d0"
      },
      "execution_count": 17,
      "outputs": [
        {
          "output_type": "stream",
          "name": "stdout",
          "text": [
            "Gira 90 grados hacia la derecha\n",
            "Extienda los brazos hacia los lados\n",
            "Cruce los brazos\n"
          ]
        }
      ]
    },
    {
      "cell_type": "code",
      "source": [
        "def cabeza(Carriba,Cabajo):\n",
        "    for _ in range(Carriba):\n",
        "        print(\"mire hacia arriba\")\n",
        "        for _ in range(Cabajo):\n",
        "         print(\"mire a la camara\")\n",
        "         pass"
      ],
      "metadata": {
        "id": "HHQ4q0ChM_dp"
      },
      "execution_count": 18,
      "outputs": []
    },
    {
      "cell_type": "code",
      "source": [
        "cabeza(1,1)"
      ],
      "metadata": {
        "colab": {
          "base_uri": "https://localhost:8080/"
        },
        "id": "5oyIQEqqNhEx",
        "outputId": "591bb186-5e67-485c-85dc-ffb4c94a6e36"
      },
      "execution_count": 19,
      "outputs": [
        {
          "output_type": "stream",
          "name": "stdout",
          "text": [
            "mire hacia arriba\n",
            "mire a la camara\n"
          ]
        }
      ]
    },
    {
      "cell_type": "code",
      "source": [
        "print(\"(Acomodación por espacio)\")\n",
        "print(\"Posición de cactus\")"
      ],
      "metadata": {
        "colab": {
          "base_uri": "https://localhost:8080/"
        },
        "id": "P-bvZ3s7No5R",
        "outputId": "dc31bb5f-db0b-449d-bd84-4a2ae4c03f9d"
      },
      "execution_count": 20,
      "outputs": [
        {
          "output_type": "stream",
          "name": "stdout",
          "text": [
            "(Acomodación por espacio)\n"
          ]
        }
      ]
    },
    {
      "cell_type": "code",
      "source": [
        "def tambor_caderas(td,ti):\n",
        "    for _ in range(td):\n",
        "        print(\"incline el cuerpo hacia la derecha\")\n",
        "        print(\"incline la cadera hacia la derecha\")\n",
        "        for _ in range(ti):\n",
        "         print(\"incline el cuerpo hacia la izquierda\")\n",
        "         print(\"incline la cadera hacia la izquierda\")\n",
        "    print(\"incline el cuerpo hacia la derecha\")\n",
        "    print(\"incline la cadera hacia la derecha\")"
      ],
      "metadata": {
        "id": "GFQbc2GZNu4h"
      },
      "execution_count": 21,
      "outputs": []
    },
    {
      "cell_type": "code",
      "source": [
        "tambor_caderas(1,1)"
      ],
      "metadata": {
        "colab": {
          "base_uri": "https://localhost:8080/"
        },
        "id": "DH9U17FYO28x",
        "outputId": "4a18a18b-4ddf-449b-f892-cb7fe067ab24"
      },
      "execution_count": 25,
      "outputs": [
        {
          "output_type": "stream",
          "name": "stdout",
          "text": [
            "incline el cuerpo hacia la derecha\n",
            "incline la cadera hacia la derecha\n",
            "incline el cuerpo hacia la izquierda\n",
            "incline la cadera hacia la izquierda\n",
            "incline el cuerpo hacia la derecha\n",
            "incline la cadera hacia la derecha\n"
          ]
        }
      ]
    },
    {
      "cell_type": "code",
      "source": [
        "print(\"manos al pantalon\")\n",
        "print(\"Flexione las piernas y separelas un poco\")"
      ],
      "metadata": {
        "id": "sqHw0eRSPFqh"
      },
      "execution_count": null,
      "outputs": []
    },
    {
      "cell_type": "code",
      "source": [
        "def mpantalon(pd,pi):\n",
        "    for _ in range(pd):\n",
        "        print(\"flexione la pierna derecha hacia el centro del cuerpo\")\n",
        "        print(\"vuelva a la posición inicial\")\n",
        "        for _ in range(pi):\n",
        "         print(\"flexione la pierna izquierda hacia el centro del cuerpo\")\n",
        "         print(\"vuelva a la posición inicial\")"
      ],
      "metadata": {
        "id": "XjItjYGMPBUJ"
      },
      "execution_count": 29,
      "outputs": []
    },
    {
      "cell_type": "code",
      "source": [
        "mpantalon(1,1)"
      ],
      "metadata": {
        "colab": {
          "base_uri": "https://localhost:8080/"
        },
        "id": "3t8mcMpgQEWR",
        "outputId": "292f3f09-0e51-4e7b-b4ab-ddd26505325e"
      },
      "execution_count": 30,
      "outputs": [
        {
          "output_type": "stream",
          "name": "stdout",
          "text": [
            "flexione la pierna derecha hacia el centro del cuerpo\n",
            "vuelva a la posición inicial\n",
            "flexione la pierna izquierda hacia el centro del cuerpo\n",
            "vuelva a la posición inicial\n"
          ]
        }
      ]
    },
    {
      "cell_type": "code",
      "source": [
        "print(\"Retire las manos del pantalon\")\n",
        "print(\"flexione el brazo derecho en una posición de 90 grados hacia arriba\")"
      ],
      "metadata": {
        "colab": {
          "base_uri": "https://localhost:8080/"
        },
        "id": "V_XgTZXaQSwZ",
        "outputId": "39f13990-647e-4239-ecc8-0cccd0e8e51b"
      },
      "execution_count": 31,
      "outputs": [
        {
          "output_type": "stream",
          "name": "stdout",
          "text": [
            "retire las manos del pantalon\n",
            "flexione el brazo derecho en una posición de 90 grados hacia arriba\n"
          ]
        }
      ]
    },
    {
      "cell_type": "code",
      "source": [
        "def apantalon2(pd,pi):\n",
        "    for _ in range(pd):\n",
        "        print(\"Rote el brazo hacia el frente\")\n",
        "        print(\"Rote el brazo hacia el frente\")\n",
        "        print(\"flexione la pierna derecha hacia el centro del cuerpo\")\n",
        "        print(\"vuelva a la posición inicial\")\n",
        "        for _ in range(pi):\n",
        "         print(\"Rote el brazo hacia el frente\")\n",
        "         print(\"Rote el brazo hacia el frente\")\n",
        "         print(\"flexione la pierna izquierda hacia el centro del cuerpo\")\n",
        "         print(\"vuelva a la posición inicial\")"
      ],
      "metadata": {
        "id": "igv7H8H8QOvR"
      },
      "execution_count": 35,
      "outputs": []
    },
    {
      "cell_type": "code",
      "source": [
        "apantalon2(1,1)"
      ],
      "metadata": {
        "colab": {
          "base_uri": "https://localhost:8080/"
        },
        "id": "_w8Hvb7cHUXs",
        "outputId": "c51ad7bd-8a05-4147-add0-2518662e2511"
      },
      "execution_count": 36,
      "outputs": [
        {
          "output_type": "stream",
          "name": "stdout",
          "text": [
            "Rote el brazo hacia el frente\n",
            "Rote el brazo hacia el frente\n",
            "flexione la pierna derecha hacia el centro del cuerpo\n",
            "vuelva a la posición inicial\n",
            "Rote el brazo hacia el frente\n",
            "Rote el brazo hacia el frente\n",
            "flexione la pierna izquierda hacia el centro del cuerpo\n",
            "vuelva a la posición inicial\n"
          ]
        }
      ]
    },
    {
      "cell_type": "code",
      "source": [
        "print(\"Gire 90 grados hacia la derecha\")\n",
        "print(\"Flexione el brazo izquierdo y ubique su mano izquierda a la altura de la cara\")"
      ],
      "metadata": {
        "id": "rGiRzYH1SMvg"
      },
      "execution_count": null,
      "outputs": []
    },
    {
      "cell_type": "code",
      "source": [
        "def dj(madelante):\n",
        "    for _ in range(madelante):\n",
        "        print(\"flexione el brazo hacia adelante\")\n",
        "        print(\"Vuelva a la posición inicial del brazo\")"
      ],
      "metadata": {
        "id": "pFVkBllPSl2Q"
      },
      "execution_count": 37,
      "outputs": []
    },
    {
      "cell_type": "code",
      "source": [
        "dj(2)"
      ],
      "metadata": {
        "colab": {
          "base_uri": "https://localhost:8080/"
        },
        "id": "Wm8P0m9ZTFIf",
        "outputId": "62d3970d-8ca8-4f89-d132-07ea35130507"
      },
      "execution_count": 38,
      "outputs": [
        {
          "output_type": "stream",
          "name": "stdout",
          "text": [
            "flexione el brazo hacia adelante\n",
            "Vuelva a la posición inicial del brazo\n",
            "flexione el brazo hacia adelante\n",
            "Vuelva a la posición inicial del brazo\n"
          ]
        }
      ]
    },
    {
      "cell_type": "code",
      "source": [
        "print(\"Fin.\")"
      ],
      "metadata": {
        "id": "X0ucIWQeTIlf"
      },
      "execution_count": null,
      "outputs": []
    }
  ]
}