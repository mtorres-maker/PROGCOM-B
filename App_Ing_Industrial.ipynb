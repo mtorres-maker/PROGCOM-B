{
  "nbformat": 4,
  "nbformat_minor": 0,
  "metadata": {
    "colab": {
      "provenance": [],
      "authorship_tag": "ABX9TyM9m5oFLuaYQkiB79aAPUM0",
      "include_colab_link": true
    },
    "kernelspec": {
      "name": "python3",
      "display_name": "Python 3"
    },
    "language_info": {
      "name": "python"
    }
  },
  "cells": [
    {
      "cell_type": "markdown",
      "metadata": {
        "id": "view-in-github",
        "colab_type": "text"
      },
      "source": [
        "<a href=\"https://colab.research.google.com/github/mtorres-maker/PROGCOM-B/blob/main/App_Ing_Industrial.ipynb\" target=\"_parent\"><img src=\"https://colab.research.google.com/assets/colab-badge.svg\" alt=\"Open In Colab\"/></a>"
      ]
    },
    {
      "cell_type": "code",
      "execution_count": null,
      "metadata": {
        "id": "T4G5j8o3jrij"
      },
      "outputs": [],
      "source": [
        "import csv\n",
        "\n",
        "INVENTARIO_FILE = \"inventario.csv\"\n",
        "\n",
        "# Función para cargar el inventario desde un archivo CSV\n",
        "def cargar_inventario():\n",
        "    inventario = {}\n",
        "    try:\n",
        "        with open(INVENTARIO_FILE, mode=\"r\", newline=\"\") as file:\n",
        "            reader = csv.reader(file)\n",
        "            next(reader)  # Saltar la cabecera\n",
        "            for row in reader:\n",
        "                nombre, cantidad, stock_minimo = row\n",
        "                inventario[nombre] = {\"cantidad\": int(cantidad), \"stock_minimo\": int(stock_minimo)}\n",
        "    except FileNotFoundError:\n",
        "        with open(INVENTARIO_FILE, mode=\"w\", newline=\"\") as file:\n",
        "            writer = csv.writer(file)\n",
        "            writer.writerow([\"Nombre\", \"Cantidad\", \"Stock Mínimo\"])\n",
        "    return inventario\n",
        "\n",
        "# Función para guardar el inventario en un archivo CSV\n",
        "def guardar_inventario(inventario):\n",
        "    with open(INVENTARIO_FILE, mode=\"w\", newline=\"\") as file:\n",
        "        writer = csv.writer(file)\n",
        "        writer.writerow([\"Nombre\", \"Cantidad\", \"Stock Mínimo\"])\n",
        "        for nombre, datos in inventario.items():\n",
        "            writer.writerow([nombre, datos[\"cantidad\"], datos[\"stock_minimo\"]])\n",
        "\n",
        "# Función para agregar un nuevo producto\n",
        "def agregar_producto(inventario):\n",
        "    nombre = input(\"Ingrese el nombre del producto: \").capitalize()\n",
        "    if nombre in inventario:\n",
        "        print(\"⚠️ El producto ya existe en el inventario.\")\n",
        "        return\n",
        "    cantidad = int(input(\"Ingrese la cantidad inicial: \"))\n",
        "    stock_minimo = int(input(\"Ingrese el stock mínimo permitido: \"))\n",
        "    inventario[nombre] = {\"cantidad\": cantidad, \"stock_minimo\": stock_minimo}\n",
        "    guardar_inventario(inventario)\n",
        "    print(f\"✅ Producto '{nombre}' agregado con éxito.\")\n",
        "\n",
        "# Función para actualizar el stock de un producto\n",
        "def actualizar_stock(inventario):\n",
        "    nombre = input(\"Ingrese el nombre del producto: \").capitalize()\n",
        "    if nombre not in inventario:\n",
        "        print(\"❌ Producto no encontrado.\")\n",
        "        return\n",
        "    cantidad = int(input(\"Ingrese la cantidad a agregar o restar (negativo para salida): \"))\n",
        "    inventario[nombre][\"cantidad\"] += cantidad\n",
        "    if inventario[nombre][\"cantidad\"] < 0:\n",
        "        inventario[nombre][\"cantidad\"] = 0\n",
        "    guardar_inventario(inventario)\n",
        "    print(f\"🔄 Stock actualizado. Nuevo stock de '{nombre}': {inventario[nombre]['cantidad']}\")\n",
        "\n",
        "# Función para mostrar el inventario\n",
        "def mostrar_inventario(inventario):\n",
        "    print(\"\\n📦 Inventario Actual:\")\n",
        "    print(\"{:<20} {:<10} {:<10}\".format(\"Producto\", \"Cantidad\", \"Stock Mínimo\"))\n",
        "    print(\"-\" * 40)\n",
        "    for nombre, datos in inventario.items():\n",
        "        alerta = \"⚠️ Bajo Stock\" if datos[\"cantidad\"] <= datos[\"stock_minimo\"] else \"\"\n",
        "        print(f\"{nombre:<20} {datos['cantidad']:<10} {datos['stock_minimo']:<10} {alerta}\")\n",
        "    print()\n",
        "\n",
        "# Menú principal\n",
        "def menu():\n",
        "    inventario = cargar_inventario()\n",
        "    while True:\n",
        "        print(\"\\n📊 Sistema de Control de Inventarios\")\n",
        "        print(\"1️⃣ Agregar Producto\")\n",
        "        print(\"2️⃣ Actualizar Stock\")\n",
        "        print(\"3️⃣ Mostrar Inventario\")\n",
        "        print(\"4️⃣ Salir\")\n",
        "        opcion = input(\"Seleccione una opción: \")\n",
        "\n",
        "        if opcion == \"1\":\n",
        "            agregar_producto(inventario)\n",
        "        elif opcion == \"2\":\n",
        "            actualizar_stock(inventario)\n",
        "        elif opcion == \"3\":\n",
        "            mostrar_inventario(inventario)\n",
        "        elif opcion == \"4\":\n",
        "            print(\"👋 ¡Hasta luego!\")\n",
        "            break\n",
        "        else:\n",
        "            print(\"❌ Opción inválida. Intente de nuevo.\")\n",
        "\n",
        "if __name__ == \"__main__\":\n",
        "    menu()\n"
      ]
    }
  ]
}