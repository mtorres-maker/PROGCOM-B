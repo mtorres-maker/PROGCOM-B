{
  "nbformat": 4,
  "nbformat_minor": 0,
  "metadata": {
    "colab": {
      "provenance": [],
      "authorship_tag": "ABX9TyMpazluPDj27VqRf2TnS71h",
      "include_colab_link": true
    },
    "kernelspec": {
      "name": "python3",
      "display_name": "Python 3"
    },
    "language_info": {
      "name": "python"
    }
  },
  "cells": [
    {
      "cell_type": "markdown",
      "metadata": {
        "id": "view-in-github",
        "colab_type": "text"
      },
      "source": [
        "<a href=\"https://colab.research.google.com/github/mtorres-maker/PROGCOM-B/blob/main/Polimorfismo.ipynb\" target=\"_parent\"><img src=\"https://colab.research.google.com/assets/colab-badge.svg\" alt=\"Open In Colab\"/></a>"
      ]
    },
    {
      "cell_type": "markdown",
      "source": [
        "Punto 1."
      ],
      "metadata": {
        "id": "izYN3PNMpWdf"
      }
    },
    {
      "cell_type": "code",
      "execution_count": 6,
      "metadata": {
        "id": "ewoj9Y2rgW-V"
      },
      "outputs": [],
      "source": [
        "class Animal:\n",
        "    def hacer_sonido(self):\n",
        "        pass\n",
        "\n",
        "class Perro(Animal):\n",
        "    def hacer_sonido(self):\n",
        "        return \"Guau\"\n",
        "\n",
        "class Gato(Animal):\n",
        "    def hacer_sonido(self):\n",
        "        return \"Miau\"\n"
      ]
    },
    {
      "cell_type": "markdown",
      "source": [
        "Punto 2."
      ],
      "metadata": {
        "id": "tbGew_lYpS6w"
      }
    },
    {
      "cell_type": "code",
      "source": [
        "import math\n",
        "\n",
        "class Forma:\n",
        "    def calcular_area(self):\n",
        "        pass\n",
        "\n",
        "class Circulo(Forma):\n",
        "    def __init__(self, radio):\n",
        "        self.radio = radio\n",
        "\n",
        "    def calcular_area(self):\n",
        "        return math.pi * self.radio ** 2\n",
        "\n",
        "class Rectangulo(Forma):\n",
        "    def __init__(self, largo, ancho):\n",
        "        self.largo = largo\n",
        "        self.ancho = ancho\n",
        "\n",
        "    def calcular_area(self):\n",
        "        return self.largo * self.ancho\n"
      ],
      "metadata": {
        "id": "KVP3y9AFpTUX"
      },
      "execution_count": 7,
      "outputs": []
    },
    {
      "cell_type": "markdown",
      "source": [
        "Punto 3."
      ],
      "metadata": {
        "id": "Ui6t7bf1pTq3"
      }
    },
    {
      "cell_type": "code",
      "source": [
        "class Forma:\n",
        "    def __init__(self):\n",
        "        pass\n",
        "\n",
        "    def calcular_area(self):\n",
        "        pass\n",
        "\n",
        "class Circulo(Forma):\n",
        "    def __init__(self, radio):\n",
        "        super().__init__()\n",
        "        self.radio = radio\n",
        "\n",
        "    def calcular_area(self):\n",
        "        return math.pi * self.radio ** 2\n",
        "\n",
        "class Rectangulo(Forma):\n",
        "    def __init__(self, largo, ancho):\n",
        "        super().__init__()\n",
        "        self.largo = largo\n",
        "        self.ancho = ancho\n",
        "\n",
        "    def calcular_area(self):\n",
        "        return self.largo * self.ancho\n"
      ],
      "metadata": {
        "id": "sXHRRcBLpUB_"
      },
      "execution_count": 8,
      "outputs": []
    },
    {
      "cell_type": "markdown",
      "source": [
        "Punto4."
      ],
      "metadata": {
        "id": "vFSjfDgrpUVH"
      }
    },
    {
      "cell_type": "code",
      "source": [
        "class Calculadora:\n",
        "    def sumar(self, *numeros):\n",
        "        return sum(numeros)\n",
        "\n",
        "    def multiplicar(self, *numeros):\n",
        "        resultado = 1\n",
        "        for num in numeros:\n",
        "            resultado *= num\n",
        "        return resultado\n"
      ],
      "metadata": {
        "id": "YpKCEWfXpUoH"
      },
      "execution_count": 9,
      "outputs": []
    },
    {
      "cell_type": "markdown",
      "source": [
        "Punto 5."
      ],
      "metadata": {
        "id": "cWdMLuBJpU3f"
      }
    },
    {
      "cell_type": "code",
      "source": [
        "class Figura:\n",
        "    def dibujar(self):\n",
        "        pass\n",
        "\n",
        "class Circulo(Figura):\n",
        "    def dibujar(self):\n",
        "        return \"Dibujando un círculo\"\n",
        "\n",
        "class Rectangulo(Figura):\n",
        "    def dibujar(self):\n",
        "        return \"Dibujando un rectángulo\"\n"
      ],
      "metadata": {
        "id": "sWJcWL_UpVLo"
      },
      "execution_count": 10,
      "outputs": []
    },
    {
      "cell_type": "markdown",
      "source": [
        "Punto 6."
      ],
      "metadata": {
        "id": "iw78jJZgpVdo"
      }
    },
    {
      "cell_type": "code",
      "source": [
        "class Empleado:\n",
        "    def trabajar(self):\n",
        "        pass\n",
        "\n",
        "class Gerente(Empleado):\n",
        "    def trabajar(self):\n",
        "        return \"Gestionando el equipo\"\n",
        "\n",
        "class Desarrollador(Empleado):\n",
        "    def trabajar(self):\n",
        "        return \"Escribiendo código\"\n"
      ],
      "metadata": {
        "id": "EsyqxRtLpV3v"
      },
      "execution_count": 11,
      "outputs": []
    },
    {
      "cell_type": "markdown",
      "source": [
        "Punto 7."
      ],
      "metadata": {
        "id": "yTZ3Z-PurMzV"
      }
    },
    {
      "cell_type": "code",
      "source": [
        "class Fruta:\n",
        "    def describir(self):\n",
        "        pass\n",
        "\n",
        "class Manzana(Fruta):\n",
        "    def describir(self):\n",
        "        return \"Una manzana roja y crujiente\"\n",
        "\n",
        "class Naranja(Fruta):\n",
        "    def describir(self):\n",
        "        return \"Una naranja jugosa y dulce\"\n"
      ],
      "metadata": {
        "id": "_7-DhVjqrOhe"
      },
      "execution_count": 12,
      "outputs": []
    },
    {
      "cell_type": "markdown",
      "source": [
        "Punto 8."
      ],
      "metadata": {
        "id": "6jP4hedqrOzu"
      }
    },
    {
      "cell_type": "code",
      "source": [
        "class Pais:\n",
        "    def __init__(self, nombre, capital):\n",
        "        self.nombre = nombre\n",
        "        self.capital = capital\n"
      ],
      "metadata": {
        "id": "Q5Rlf1DNrgbF"
      },
      "execution_count": 15,
      "outputs": []
    },
    {
      "cell_type": "markdown",
      "source": [
        "Punto 9."
      ],
      "metadata": {
        "id": "xJkRXuefrQYV"
      }
    },
    {
      "cell_type": "code",
      "source": [
        "class Pais:\n",
        "    def idioma(self):\n",
        "        pass\n",
        "\n",
        "class Mexico(Pais):\n",
        "    def idioma(self):\n",
        "        return \"Español\"\n",
        "\n",
        "class Alemania(Pais):\n",
        "    def idioma(self):\n",
        "        return \"Alemán\"\n"
      ],
      "metadata": {
        "id": "N_3VG35Ora1m"
      },
      "execution_count": 13,
      "outputs": []
    },
    {
      "cell_type": "markdown",
      "source": [
        "Punto 10."
      ],
      "metadata": {
        "id": "lw2ch5XWrbJl"
      }
    },
    {
      "cell_type": "markdown",
      "source": [
        "# **JAVA**"
      ],
      "metadata": {
        "id": "l5Sdi6YosCWk"
      }
    },
    {
      "cell_type": "markdown",
      "source": [
        "Punto 1."
      ],
      "metadata": {
        "id": "IreOo_7bsMvd"
      }
    },
    {
      "cell_type": "code",
      "source": [
        "abstract class Animal {\n",
        "    public abstract String hacerSonido();\n",
        "}\n",
        "\n",
        "class Perro extends Animal {\n",
        "    @Override\n",
        "    public String hacerSonido() {\n",
        "        return \"¡Guau!\";\n",
        "    }\n",
        "}\n",
        "\n",
        "class Gato extends Animal {\n",
        "    @Override\n",
        "    public String hacerSonido() {\n",
        "        return \"¡Miau!\";\n",
        "    }\n",
        "}\n",
        "\n"
      ],
      "metadata": {
        "id": "fYDY6z_QrxIG"
      },
      "execution_count": 14,
      "outputs": []
    },
    {
      "cell_type": "markdown",
      "source": [
        "Punto 2."
      ],
      "metadata": {
        "id": "MWkUSEnosQbc"
      }
    },
    {
      "cell_type": "code",
      "source": [
        "abstract class Forma {\n",
        "    public abstract double calcularArea();\n",
        "}\n",
        "\n",
        "class Circulo extends Forma {\n",
        "    private double radio;\n",
        "\n",
        "    public Circulo(double radio) {\n",
        "        this.radio = radio;\n",
        "    }\n",
        "\n",
        "    @Override\n",
        "    public double calcularArea() {\n",
        "        return Math.PI * radio * radio;\n",
        "    }\n",
        "}\n",
        "\n",
        "class Rectangulo extends Forma {\n",
        "    private double largo;\n",
        "    private double ancho;\n",
        "\n",
        "    public Rectangulo(double largo, double ancho) {\n",
        "        this.largo = largo;\n",
        "        this.ancho = ancho;\n",
        "    }\n",
        "\n",
        "    @Override\n",
        "    public double calcularArea() {\n",
        "        return largo * ancho;\n",
        "    }\n",
        "}\n"
      ],
      "metadata": {
        "id": "060RzRZLsCH9"
      },
      "execution_count": null,
      "outputs": []
    },
    {
      "cell_type": "markdown",
      "source": [
        "Punto 3."
      ],
      "metadata": {
        "id": "ZEAGeJNKsSPN"
      }
    },
    {
      "cell_type": "code",
      "source": [
        "abstract class Forma {\n",
        "    public abstract double calcularArea();\n",
        "}\n",
        "\n",
        "class Circulo extends Forma {\n",
        "    private double radio;\n",
        "\n",
        "    public Circulo(double radio) {\n",
        "        this.radio = radio;\n",
        "    }\n",
        "\n",
        "    @Override\n",
        "    public double calcularArea() {\n",
        "        return Math.PI * radio * radio;\n",
        "    }\n",
        "}\n",
        "\n",
        "class Rectangulo extends Forma {\n",
        "    private double largo;\n",
        "    private double ancho;\n",
        "\n",
        "    public Rectangulo(double largo, double ancho) {\n",
        "        this.largo = largo;\n",
        "        this.ancho = ancho;\n",
        "    }\n",
        "\n",
        "    @Override\n",
        "    public double calcularArea() {\n",
        "        return largo * ancho;\n",
        "    }\n",
        "}\n"
      ],
      "metadata": {
        "id": "Pclb8JXYsTu1"
      },
      "execution_count": null,
      "outputs": []
    },
    {
      "cell_type": "markdown",
      "source": [
        "Punto 4."
      ],
      "metadata": {
        "id": "MhgG0lM8sT7k"
      }
    },
    {
      "cell_type": "code",
      "source": [
        "class Calculadora {\n",
        "    public int operar(String operacion, int... numeros) {\n",
        "        int resultado = (operacion.equals(\"sumar\")) ? 0 : 1;\n",
        "        for (int num : numeros) {\n",
        "            if (operacion.equals(\"sumar\")) {\n",
        "                resultado += num;\n",
        "            } else if (operacion.equals(\"multiplicar\")) {\n",
        "                resultado *= num;\n",
        "            }\n",
        "        }\n",
        "        return resultado;\n",
        "    }\n",
        "}\n"
      ],
      "metadata": {
        "id": "cXqNbfDhsViV"
      },
      "execution_count": null,
      "outputs": []
    },
    {
      "cell_type": "markdown",
      "source": [
        "Punto 5."
      ],
      "metadata": {
        "id": "Debw09P7sVUk"
      }
    },
    {
      "cell_type": "code",
      "source": [
        "abstract class Figura {\n",
        "    public abstract void dibujar();\n",
        "}\n",
        "\n",
        "class Circulo extends Figura {\n",
        "    @Override\n",
        "    public void dibujar() {\n",
        "        System.out.println(\"Dibujando un círculo\");\n",
        "    }\n",
        "}\n",
        "\n",
        "class Rectangulo extends Figura {\n",
        "    @Override\n",
        "    public void dibujar() {\n",
        "        System.out.println(\"Dibujando un rectángulo\");\n",
        "    }\n",
        "}\n"
      ],
      "metadata": {
        "id": "YbKoRZfwsZUc"
      },
      "execution_count": null,
      "outputs": []
    },
    {
      "cell_type": "markdown",
      "source": [
        "Punto 6."
      ],
      "metadata": {
        "id": "036o9D8csZlv"
      }
    },
    {
      "cell_type": "code",
      "source": [
        "abstract class Empleado {\n",
        "    public abstract void trabajar();\n",
        "}\n",
        "\n",
        "class Gerente extends Empleado {\n",
        "    @Override\n",
        "    public void trabajar() {\n",
        "        System.out.println(\"Gestionando el equipo\");\n",
        "    }\n",
        "}\n",
        "\n",
        "class Desarrollador extends Empleado {\n",
        "    @Override\n",
        "    public void trabajar() {\n",
        "        System.out.println(\"Escribiendo código\");\n",
        "    }\n",
        "}\n"
      ],
      "metadata": {
        "id": "Z3hLlddDsbmN"
      },
      "execution_count": null,
      "outputs": []
    },
    {
      "cell_type": "markdown",
      "source": [
        "Punto 7."
      ],
      "metadata": {
        "id": "A2FNLQEOsbFF"
      }
    },
    {
      "cell_type": "code",
      "source": [
        "abstract class Fruta {\n",
        "    public abstract void describir();\n",
        "}\n",
        "\n",
        "class Manzana extends Fruta {\n",
        "    @Override\n",
        "    public void describir() {\n",
        "        System.out.println(\"Una manzana roja y crujiente\");\n",
        "    }\n",
        "}\n",
        "\n",
        "class Naranja extends Fruta {\n",
        "    @Override\n",
        "    public void describir() {\n",
        "        System.out.println(\"Una naranja jugosa y dulce\");\n",
        "    }\n",
        "}\n"
      ],
      "metadata": {
        "id": "LLgzjxyPsek8"
      },
      "execution_count": null,
      "outputs": []
    },
    {
      "cell_type": "markdown",
      "source": [
        "Punto 8."
      ],
      "metadata": {
        "id": "gH3X71AJsfH4"
      }
    },
    {
      "cell_type": "code",
      "source": [
        "class Pais {\n",
        "    private String nombre;\n",
        "    private String capital;\n",
        "\n",
        "    public Pais(String nombre, String capital) {\n",
        "        this.nombre = nombre;\n",
        "        this.capital = capital;\n",
        "    }\n",
        "\n",
        "    public String getCapital() {\n",
        "        return capital;\n",
        "    }\n",
        "}\n"
      ],
      "metadata": {
        "id": "mOm0udUBshjW"
      },
      "execution_count": null,
      "outputs": []
    },
    {
      "cell_type": "markdown",
      "source": [
        "Punto 9."
      ],
      "metadata": {
        "id": "64caEkw7siKV"
      }
    },
    {
      "cell_type": "code",
      "source": [
        "abstract class Pais {\n",
        "    public abstract String idioma();\n",
        "}\n",
        "\n",
        "class Mexico extends Pais {\n",
        "    @Override\n",
        "    public String idioma() {\n",
        "        return \"Español\";\n",
        "    }\n",
        "}\n",
        "\n",
        "class Alemania extends Pais {\n",
        "    @Override\n",
        "    public String idioma() {\n",
        "        return \"Alemán\";\n",
        "    }\n",
        "}\n"
      ],
      "metadata": {
        "id": "Rpafi_aHsh-X"
      },
      "execution_count": null,
      "outputs": []
    },
    {
      "cell_type": "markdown",
      "source": [
        "Punto 10."
      ],
      "metadata": {
        "id": "FNUnVupBsh1k"
      }
    },
    {
      "cell_type": "code",
      "source": [
        "class Libro {\n",
        "    private String titulo;\n",
        "    private String autor;\n",
        "    private int paginas;\n",
        "\n",
        "    public Libro(String titulo, String autor, int paginas) {\n",
        "        this.titulo = titulo;\n",
        "        this.autor = autor;\n",
        "        this.paginas = paginas;\n",
        "    }\n",
        "\n",
        "    public void resumen() {\n",
        "        System.out.println(\"Título: \" + titulo + \"\\nAutor: \" + autor + \"\\nPáginas: \" + paginas);\n",
        "    }\n",
        "}\n"
      ],
      "metadata": {
        "id": "cOZslyvOsiUU"
      },
      "execution_count": null,
      "outputs": []
    }
  ]
}