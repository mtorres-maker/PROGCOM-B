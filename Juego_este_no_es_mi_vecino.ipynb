{
  "nbformat": 4,
  "nbformat_minor": 0,
  "metadata": {
    "colab": {
      "provenance": [],
      "authorship_tag": "ABX9TyPoCw3dJpFznT736rzINJAA",
      "include_colab_link": true
    },
    "kernelspec": {
      "name": "python3",
      "display_name": "Python 3"
    },
    "language_info": {
      "name": "python"
    }
  },
  "cells": [
    {
      "cell_type": "markdown",
      "metadata": {
        "id": "view-in-github",
        "colab_type": "text"
      },
      "source": [
        "<a href=\"https://colab.research.google.com/github/mtorres-maker/PROGCOM-B/blob/main/Juego_este_no_es_mi_vecino.ipynb\" target=\"_parent\"><img src=\"https://colab.research.google.com/assets/colab-badge.svg\" alt=\"Open In Colab\"/></a>"
      ]
    },
    {
      "cell_type": "code",
      "execution_count": 1,
      "metadata": {
        "colab": {
          "base_uri": "https://localhost:8080/"
        },
        "id": "1D4QJIRLyhFm",
        "outputId": "368158c3-b3a6-430b-cb1b-e8dad3c1908f"
      },
      "outputs": [
        {
          "output_type": "stream",
          "name": "stdout",
          "text": [
            "\n",
            "🎮 BIENVENIDO A: ¡ESE NO ES MI VECINO!\n",
            "Una mezcla de Papers Please con monstruos escondidos.\n",
            "Tu misión: evitar que entren monstruos a tu edificio.\n",
            "\n",
            "\n",
            "Menú Principal:\n",
            "1. Interrogar al siguiente vecino\n",
            "2. Ver puntuación\n",
            "3. Salir del juego\n",
            "Elige una opción: 1\n",
            "\n",
            "👤 Llaman a la puerta. Dice llamarse Luis\n",
            "❓ ¿Cuál es tu color favorito?: Rojo\n",
            "❓ ¿Cuál es tu comida favorita?: Pastas\n",
            "😢 Era un vecino real, pero no confiaste en él. Se ofendió...\n",
            "\n",
            "Menú Principal:\n",
            "1. Interrogar al siguiente vecino\n",
            "2. Ver puntuación\n",
            "3. Salir del juego\n",
            "Elige una opción: 2\n",
            "📊 Tu puntuación actual es: -1\n",
            "\n",
            "Menú Principal:\n",
            "1. Interrogar al siguiente vecino\n",
            "2. Ver puntuación\n",
            "3. Salir del juego\n",
            "Elige una opción: 3\n",
            "👋 ¡Gracias por jugar! Tu puntuación final fue: -1\n"
          ]
        }
      ],
      "source": [
        "import random\n",
        "\n",
        "# Datos simulados de vecinos verdaderos\n",
        "vecinos_reales = [\n",
        "    {\"nombre\": \"Luis\", \"color_favorito\": \"azul\", \"comida_favorita\": \"pizza\"},\n",
        "    {\"nombre\": \"Ana\", \"color_favorito\": \"rojo\", \"comida_favorita\": \"sushi\"},\n",
        "    {\"nombre\": \"Carlos\", \"color_favorito\": \"verde\", \"comida_favorita\": \"hamburguesa\"},\n",
        "    {\"nombre\": \"Lucía\", \"color_favorito\": \"amarillo\", \"comida_favorita\": \"ensalada\"},\n",
        "]\n",
        "\n",
        "# Datos que los monstruos podrían copiar mal\n",
        "respuestas_erroneas = [\n",
        "    {\"nombre\": \"Luis\", \"color_favorito\": \"negro\", \"comida_favorita\": \"gusanos\"},\n",
        "    {\"nombre\": \"Ana\", \"color_favorito\": \"azul\", \"comida_favorita\": \"piedras\"},\n",
        "    {\"nombre\": \"Carlos\", \"color_favorito\": \"rojo\", \"comida_favorita\": \"lava\"},\n",
        "    {\"nombre\": \"Lucía\", \"color_favorito\": \"rosa\", \"comida_favorita\": \"sangre\"},\n",
        "]\n",
        "\n",
        "def presentar_vecino():\n",
        "    real = random.choice([True, False])\n",
        "    indice = random.randint(0, len(vecinos_reales) - 1)\n",
        "    vecino = vecinos_reales[indice] if real else respuestas_erroneas[indice]\n",
        "    return vecino, vecinos_reales[indice], real\n",
        "\n",
        "def interrogar(vecino_aparente):\n",
        "    print(f\"\\n👤 Llaman a la puerta. Dice llamarse {vecino_aparente['nombre']}\")\n",
        "    color = input(\"❓ ¿Cuál es tu color favorito?: \").strip().lower()\n",
        "    comida = input(\"❓ ¿Cuál es tu comida favorita?: \").strip().lower()\n",
        "    return color, comida\n",
        "\n",
        "def evaluar_respuesta(real, aparente, color, comida):\n",
        "    return aparente[\"color_favorito\"] == color and aparente[\"comida_favorita\"] == comida\n",
        "\n",
        "def menu():\n",
        "    print(\"\"\"\n",
        "🎮 BIENVENIDO A: ¡ESE NO ES MI VECINO!\n",
        "Una mezcla de Papers Please con monstruos escondidos.\n",
        "Tu misión: evitar que entren monstruos a tu edificio.\n",
        "\"\"\")\n",
        "    puntuacion = 0\n",
        "    while True:\n",
        "        print(\"\\nMenú Principal:\")\n",
        "        print(\"1. Interrogar al siguiente vecino\")\n",
        "        print(\"2. Ver puntuación\")\n",
        "        print(\"3. Salir del juego\")\n",
        "        opcion = input(\"Elige una opción: \").strip()\n",
        "\n",
        "        if opcion == \"1\":\n",
        "            aparente, real, es_real = presentar_vecino()\n",
        "            color, comida = interrogar(aparente)\n",
        "            if evaluar_respuesta(real, aparente, color, comida):\n",
        "                if es_real:\n",
        "                    print(\"✅ Era un vecino real. ¡Bien hecho!\")\n",
        "                    puntuacion += 1\n",
        "                else:\n",
        "                    print(\"❌ ¡Era un monstruo que respondió bien! Entró al edificio...\")\n",
        "                    puntuacion -= 1\n",
        "            else:\n",
        "                if es_real:\n",
        "                    print(\"😢 Era un vecino real, pero no confiaste en él. Se ofendió...\")\n",
        "                    puntuacion -= 1\n",
        "                else:\n",
        "                    print(\"💀 ¡Era un monstruo! ¡Lo ahuyentaste a tiempo!\")\n",
        "                    puntuacion += 2\n",
        "\n",
        "        elif opcion == \"2\":\n",
        "            print(f\"📊 Tu puntuación actual es: {puntuacion}\")\n",
        "\n",
        "        elif opcion == \"3\":\n",
        "            print(\"👋 ¡Gracias por jugar! Tu puntuación final fue:\", puntuacion)\n",
        "            break\n",
        "        else:\n",
        "            print(\"❌ Opción inválida. Intenta de nuevo.\")\n",
        "\n",
        "if __name__ == \"__main__\":\n",
        "    menu()\n"
      ]
    }
  ]
}