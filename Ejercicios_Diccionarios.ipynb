{
  "nbformat": 4,
  "nbformat_minor": 0,
  "metadata": {
    "colab": {
      "provenance": [],
      "authorship_tag": "ABX9TyM8G2qqsJmGy/lIvWy9SVWL",
      "include_colab_link": true
    },
    "kernelspec": {
      "name": "python3",
      "display_name": "Python 3"
    },
    "language_info": {
      "name": "python"
    }
  },
  "cells": [
    {
      "cell_type": "markdown",
      "metadata": {
        "id": "view-in-github",
        "colab_type": "text"
      },
      "source": [
        "<a href=\"https://colab.research.google.com/github/mtorres-maker/PROGCOM-B/blob/main/Ejercicios_Diccionarios.ipynb\" target=\"_parent\"><img src=\"https://colab.research.google.com/assets/colab-badge.svg\" alt=\"Open In Colab\"/></a>"
      ]
    },
    {
      "cell_type": "markdown",
      "source": [
        "15. Desarrolla un programa que valide si tres números pueden formar un triángulo y de qué tipo es."
      ],
      "metadata": {
        "id": "Y4tXNqiEha2N"
      }
    },
    {
      "cell_type": "code",
      "source": [
        "Triangulo={\"triangulo\":[\"Equilatero\", \"Isoceles\", \"Escaleno\"]}"
      ],
      "metadata": {
        "id": "hPcRC61okyAz"
      },
      "execution_count": 51,
      "outputs": []
    },
    {
      "cell_type": "code",
      "source": [
        "def triangulo():\n",
        " L1=int(input(\"Ingrese el primer lado: \"))\n",
        " L2=int(input(\"Ingrese el segundo lado: \"))\n",
        " L3=int(input(\"Ingrese el tercer lado: \"))\n",
        " if L1+L2>L3 and L1+L3>L2 and L2+L3>L1:\n",
        "   if L1==L2==L3:\n",
        "     print(Triangulo[\"triangulo\"][0])\n",
        "   elif L1==L2 or L1==L3 or L2==L3:\n",
        "     print(Triangulo[\"triangulo\"][1])\n",
        "   elif L1!=L2!=L3:\n",
        "     print(Triangulo[\"triangulo\"][2])\n",
        " else:\n",
        "   print(\"No es un triangulo\")\n"
      ],
      "metadata": {
        "id": "eAwPhmXBhff0"
      },
      "execution_count": 61,
      "outputs": []
    },
    {
      "cell_type": "code",
      "source": [
        "triangulo()"
      ],
      "metadata": {
        "id": "CSlAZOEJoEpl"
      },
      "execution_count": null,
      "outputs": []
    },
    {
      "cell_type": "markdown",
      "source": [
        "16. Crea un programa que muestre la tabla de multiplicar de un número hasta el 10."
      ],
      "metadata": {
        "id": "Ud1ytS8gnLc-"
      }
    },
    {
      "cell_type": "code",
      "source": [
        "lista=[list(range(1,11))]"
      ],
      "metadata": {
        "id": "G0_7RAHMtYg5"
      },
      "execution_count": 86,
      "outputs": []
    },
    {
      "cell_type": "code",
      "source": [
        "Multiplicar={\"tabla\":lista}#creé un diccionario llamado Multiplicar, con una llave llamada \"tabla\" que contiene una lista de números del 1 al 10"
      ],
      "metadata": {
        "id": "SnVNqZY_oamw"
      },
      "execution_count": 87,
      "outputs": []
    },
    {
      "cell_type": "code",
      "source": [
        "def tm(Multiplicar):\n",
        "  n=int(input(\"ingrese un numero\"))\n",
        "  for i in Multiplicar[\"tabla\"]:\n",
        "    print(f\"{i}*{n}={i*n}\")\n",
        ""
      ],
      "metadata": {
        "id": "yEy67JgVny72"
      },
      "execution_count": 88,
      "outputs": []
    },
    {
      "cell_type": "code",
      "source": [
        "tm(Multiplicar)"
      ],
      "metadata": {
        "colab": {
          "base_uri": "https://localhost:8080/"
        },
        "id": "zR40qPk3o8pN",
        "outputId": "99dffd30-0a30-4029-861d-78bffa6cdd79"
      },
      "execution_count": 89,
      "outputs": [
        {
          "output_type": "stream",
          "name": "stdout",
          "text": [
            "ingrese un numero2\n",
            "[1, 2, 3, 4, 5, 6, 7, 8, 9, 10]*2=[1, 2, 3, 4, 5, 6, 7, 8, 9, 10, 1, 2, 3, 4, 5, 6, 7, 8, 9, 10]\n"
          ]
        }
      ]
    },
    {
      "cell_type": "code",
      "source": [
        "def tabla_multiplicar(numero):\n",
        "  tabla = {}\n",
        "  for i in range(1, 11):\n",
        "    tabla[i] = numero * i\n",
        "  return tabla\n",
        "\n",
        "numero = int(input(\"Ingrese un número: \"))\n",
        "tabla = tabla_multiplicar(numero)\n",
        "for i, resultado in tabla.items():\n",
        "  print(f\"{numero} x {i} = {resultado}\")\n"
      ],
      "metadata": {
        "id": "x20-7vHWnLO3"
      },
      "execution_count": null,
      "outputs": []
    }
  ]
}