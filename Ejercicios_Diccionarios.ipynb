{
  "nbformat": 4,
  "nbformat_minor": 0,
  "metadata": {
    "colab": {
      "provenance": [],
      "authorship_tag": "ABX9TyPe/7RLP2oO4rLGi+t+z1ln",
      "include_colab_link": true
    },
    "kernelspec": {
      "name": "python3",
      "display_name": "Python 3"
    },
    "language_info": {
      "name": "python"
    }
  },
  "cells": [
    {
      "cell_type": "markdown",
      "metadata": {
        "id": "view-in-github",
        "colab_type": "text"
      },
      "source": [
        "<a href=\"https://colab.research.google.com/github/mtorres-maker/PROGCOM-B/blob/main/Ejercicios_Diccionarios.ipynb\" target=\"_parent\"><img src=\"https://colab.research.google.com/assets/colab-badge.svg\" alt=\"Open In Colab\"/></a>"
      ]
    },
    {
      "cell_type": "markdown",
      "source": [
        "15. Desarrolla un programa que valide si tres números pueden formar un triángulo y de qué tipo es."
      ],
      "metadata": {
        "id": "Y4tXNqiEha2N"
      }
    },
    {
      "cell_type": "code",
      "source": [
        "Triangulo={\"triangulo\":[\"Equilatero\", \"Isoceles\", \"Escaleno\"]}"
      ],
      "metadata": {
        "id": "hPcRC61okyAz"
      },
      "execution_count": 51,
      "outputs": []
    },
    {
      "cell_type": "code",
      "source": [
        "def triangulo():\n",
        " L1=int(input(\"Ingrese el primer lado: \"))\n",
        " L2=int(input(\"Ingrese el segundo lado: \"))\n",
        " L3=int(input(\"Ingrese el tercer lado: \"))\n",
        " if L1+L2>L3 and L1+L3>L2 and L2+L3>L1:\n",
        "   if L1==L2==L3:\n",
        "     print(Triangulo[\"triangulo\"][0])\n",
        "   elif L1==L2 or L1==L3 or L2==L3:\n",
        "     print(Triangulo[\"triangulo\"][1])\n",
        "   elif L1!=L2!=L3:\n",
        "     print(Triangulo[\"triangulo\"][2])\n",
        " else:\n",
        "   print(\"No es un triangulo\")\n"
      ],
      "metadata": {
        "id": "eAwPhmXBhff0"
      },
      "execution_count": 61,
      "outputs": []
    },
    {
      "cell_type": "code",
      "source": [
        "triangulo()"
      ],
      "metadata": {
        "id": "CSlAZOEJoEpl"
      },
      "execution_count": null,
      "outputs": []
    },
    {
      "cell_type": "markdown",
      "source": [
        "16. Crea un programa que muestre la tabla de multiplicar de un número hasta el 10."
      ],
      "metadata": {
        "id": "Ud1ytS8gnLc-"
      }
    },
    {
      "cell_type": "code",
      "source": [
        "lista=list(range(1,11))"
      ],
      "metadata": {
        "id": "G0_7RAHMtYg5"
      },
      "execution_count": 106,
      "outputs": []
    },
    {
      "cell_type": "code",
      "source": [
        "Multiplicar={\"tabla\":lista}#creé un diccionario llamado Multiplicar, con una llave llamada \"tabla\" que contiene una lista de números del 1 al 10"
      ],
      "metadata": {
        "id": "SnVNqZY_oamw"
      },
      "execution_count": 107,
      "outputs": []
    },
    {
      "cell_type": "code",
      "source": [
        "def tm(Multiplicar):\n",
        "  n=int(input(\"ingrese un numero\"))\n",
        "  for i in Multiplicar[\"tabla\"]:\n",
        "    print(f\"{i}*{n}={i*Multiplicar[tabla]}\")\n",
        ""
      ],
      "metadata": {
        "id": "yEy67JgVny72"
      },
      "execution_count": 92,
      "outputs": []
    },
    {
      "cell_type": "code",
      "source": [
        "for j in range(10):\n",
        "  print(f\"{Multiplicar[\"tabla\"][j])}*{Multiplicar[\"]})"
      ],
      "metadata": {
        "colab": {
          "base_uri": "https://localhost:8080/",
          "height": 106
        },
        "id": "oQ3pHrnsvSkn",
        "outputId": "f834fbce-1efd-425b-dfde-ef862cdcef5c"
      },
      "execution_count": 116,
      "outputs": [
        {
          "output_type": "error",
          "ename": "SyntaxError",
          "evalue": "unterminated string literal (detected at line 2) (<ipython-input-116-5846f3f43b2e>, line 2)",
          "traceback": [
            "\u001b[0;36m  File \u001b[0;32m\"<ipython-input-116-5846f3f43b2e>\"\u001b[0;36m, line \u001b[0;32m2\u001b[0m\n\u001b[0;31m    print(f\"{Multiplicar[\"tabla\"][j])}*)\u001b[0m\n\u001b[0m                               ^\u001b[0m\n\u001b[0;31mSyntaxError\u001b[0m\u001b[0;31m:\u001b[0m unterminated string literal (detected at line 2)\n"
          ]
        }
      ]
    },
    {
      "cell_type": "code",
      "source": [
        "tm(Multiplicar)"
      ],
      "metadata": {
        "colab": {
          "base_uri": "https://localhost:8080/"
        },
        "id": "zR40qPk3o8pN",
        "outputId": "a45ca4ef-8a13-43ba-ab32-adfe2276e16f"
      },
      "execution_count": 93,
      "outputs": [
        {
          "output_type": "stream",
          "name": "stdout",
          "text": [
            "ingrese un numero5\n",
            "[1, 2, 3, 4, 5, 6, 7, 8, 9, 10]*5=[1, 2, 3, 4, 5, 6, 7, 8, 9, 10, 1, 2, 3, 4, 5, 6, 7, 8, 9, 10, 1, 2, 3, 4, 5, 6, 7, 8, 9, 10, 1, 2, 3, 4, 5, 6, 7, 8, 9, 10, 1, 2, 3, 4, 5, 6, 7, 8, 9, 10]\n"
          ]
        }
      ]
    },
    {
      "cell_type": "code",
      "source": [
        "def tabla_multiplicar(numero):\n",
        "  tabla = {}\n",
        "  for i in range(1, 11):\n",
        "    tabla[i] = numero * i\n",
        "  return tabla\n",
        "\n",
        "numero = int(input(\"Ingrese un número: \"))\n",
        "tabla = tabla_multiplicar(numero)\n",
        "for i, resultado in tabla.items():\n",
        "  print(f\"{numero} x {i} = {resultado}\")\n"
      ],
      "metadata": {
        "id": "x20-7vHWnLO3"
      },
      "execution_count": null,
      "outputs": []
    }
  ]
}