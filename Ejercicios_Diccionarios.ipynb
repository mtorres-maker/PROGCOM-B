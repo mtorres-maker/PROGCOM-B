{
  "nbformat": 4,
  "nbformat_minor": 0,
  "metadata": {
    "colab": {
      "provenance": []
    },
    "kernelspec": {
      "name": "python3",
      "display_name": "Python 3"
    },
    "language_info": {
      "name": "python"
    }
  },
  "cells": [
    {
      "cell_type": "markdown",
      "source": [
        "15. Desarrolla un programa que valide si tres números pueden formar un triángulo y de qué tipo es."
      ],
      "metadata": {
        "id": "Y4tXNqiEha2N"
      }
    },
    {
      "cell_type": "code",
      "source": [
        "Triangulo={\"triangulo\":[\"Equilatero\", \"Isoceles\", \"Escaleno\"]}"
      ],
      "metadata": {
        "id": "hPcRC61okyAz"
      },
      "execution_count": null,
      "outputs": []
    },
    {
      "cell_type": "code",
      "source": [
        "def triangulo():\n",
        " L1=int(input(\"Ingrese el primer lado: \"))\n",
        " L2=int(input(\"Ingrese el segundo lado: \"))\n",
        " L3=int(input(\"Ingrese el tercer lado: \"))\n",
        " if L1+L2>L3 and L1+L3>L2 and L2+L3>L1:\n",
        "   if L1==L2==L3:\n",
        "     print(Triangulo[\"triangulo\"][0])\n",
        "   elif L1==L2 or L1==L3 or L2==L3:\n",
        "     print(Triangulo[\"triangulo\"][1])\n",
        "   elif L1!=L2!=L3:\n",
        "     print(Triangulo[\"triangulo\"][2])\n",
        " else:\n",
        "   print(\"No es un triangulo\")\n"
      ],
      "metadata": {
        "id": "eAwPhmXBhff0"
      },
      "execution_count": null,
      "outputs": []
    },
    {
      "cell_type": "code",
      "source": [
        "triangulo()"
      ],
      "metadata": {
        "id": "CSlAZOEJoEpl"
      },
      "execution_count": null,
      "outputs": []
    },
    {
      "cell_type": "markdown",
      "source": [
        "16. Crea un programa que muestre la tabla de multiplicar de un número hasta el 10."
      ],
      "metadata": {
        "id": "Ud1ytS8gnLc-"
      }
    },
    {
      "cell_type": "code",
      "source": [
        "lista=list(range(1,11))"
      ],
      "metadata": {
        "id": "G0_7RAHMtYg5"
      },
      "execution_count": 30,
      "outputs": []
    },
    {
      "cell_type": "code",
      "source": [
        "Multiplicar={\"tabla\":lista}#creé un diccionario llamado Multiplicar, con una llave llamada \"tabla\" que contiene una lista de números del 1 al 10"
      ],
      "metadata": {
        "id": "SnVNqZY_oamw"
      },
      "execution_count": 32,
      "outputs": []
    },
    {
      "cell_type": "code",
      "source": [
        "n=int(input(\"ingrese un numero\"))\n",
        "for j in range(10):\n",
        "  print(f\"{Multiplicar['tabla'][j]} * {n} = {(Multiplicar['tabla'][j])*n}\")"
      ],
      "metadata": {
        "id": "oQ3pHrnsvSkn"
      },
      "execution_count": null,
      "outputs": []
    },
    {
      "cell_type": "markdown",
      "source": [
        "17. Escribe un programa que calcule la suma de números naturales hasta n."
      ],
      "metadata": {
        "id": "jh9dH4KnoIYd"
      }
    },
    {
      "cell_type": "code",
      "source": [
        "def suma_naturales(n):\n",
        "  suma = 0\n",
        "  numeros = {}\n",
        "  for i in range(1, n + 1):\n",
        "    suma += i\n",
        "    numeros[i] = i\n",
        "\n",
        "  return {\"suma\": suma, \"numeros\": numeros}\n",
        "\n",
        "n = int(input(\"Introduce un número entero positivo: \"))\n",
        "resultado = suma_naturales(n)\n",
        "print(f\"La suma de los números naturales hasta {n} es: {resultado['suma']}\")\n",
        "print(f\"Números utilizados en la suma: {resultado['numeros']}\")"
      ],
      "metadata": {
        "id": "PTHbMUHx82-q"
      },
      "execution_count": null,
      "outputs": []
    },
    {
      "cell_type": "markdown",
      "source": [
        "18. Desarrolla un programa que calcule el factorial de un número. Recuerda que el factorial de 0 es 1 y no existen factoriales negativos."
      ],
      "metadata": {
        "id": "-B-246Tr86Zs"
      }
    },
    {
      "cell_type": "code",
      "source": [
        "def factorial(n):\n",
        "  if n < 0:\n",
        "    return \"No existe factorial de números negativos.\"\n",
        "  elif n == 0:\n",
        "    return 1\n",
        "  else:\n",
        "    fact = 1\n",
        "\n",
        "    factoriales_calculados = {}\n",
        "\n",
        "    for i in range(1, n + 1):\n",
        "      fact *= i\n",
        "      factoriales_calculados[i] = fact\n",
        "\n",
        "    return fact\n",
        "\n",
        "numero = int(input(\"Introduce un número entero no negativo: \"))\n",
        "resultado = factorial(numero)\n",
        "print(f\"El factorial de {numero} es: {resultado}\")"
      ],
      "metadata": {
        "id": "n56eLg1Z9PsD"
      },
      "execution_count": null,
      "outputs": []
    },
    {
      "cell_type": "markdown",
      "source": [
        "19. Crea un programa que muestre los primeros n números de la serie Fibonacci."
      ],
      "metadata": {
        "id": "9eM_ACFG9iQE"
      }
    },
    {
      "cell_type": "code",
      "source": [
        "def fibonacci(n):\n",
        "  fib_sequence = {}\n",
        "  a, b = 0, 1\n",
        "  for i in range(n):\n",
        "    fib_sequence[i] = a\n",
        "    a, b = b, a + b\n",
        "  return fib_sequence\n",
        "n = int(input(\"Introduce el número de términos de la serie Fibonacci que deseas mostrar: \"))\n",
        "secuencia = fibonacci(n)\n",
        "for i in secuencia:\n",
        "  print(secuencia[i], end=\" \")"
      ],
      "metadata": {
        "id": "ypJ7eSky-CJF"
      },
      "execution_count": null,
      "outputs": []
    },
    {
      "cell_type": "markdown",
      "source": [
        "20. Escribe un programa que adivine entre un conjunto de diez colores definidos por el usuario, con un máximo de 10 intentos."
      ],
      "metadata": {
        "id": "95l1k_bt9ZmZ"
      }
    },
    {
      "cell_type": "code",
      "source": [
        "import random\n",
        "def adivina_color():\n",
        "    colores = {}\n",
        "    for i in range(10):\n",
        "        while True:\n",
        "            color = input(f\"Introduce el color número {i+1}: \")\n",
        "            if color not in colores and color.isalpha():\n",
        "                colores[color] = 0\n",
        "                break\n",
        "            else:\n",
        "                print(\"Color no válido o repetido. Intenta de nuevo.\")\n",
        "    color_secreto = random.choice(list(colores.keys()))\n",
        "    intentos = 0\n",
        "    adivinado = False\n",
        "    print(\"\\n¡Adivina el color secreto!\")\n",
        "    while intentos < 10 and not adivinado:\n",
        "        intento = input(f\"Intento {intentos + 1}: \")\n",
        "        intentos += 1\n",
        "        if intento in colores:\n",
        "          if intento.lower() == color_secreto.lower():\n",
        "              adivinado = True\n",
        "              print(f\"¡Correcto! El color secreto era {color_secreto}. Adivinaste en {intentos} intentos.\")\n",
        "          else:\n",
        "              print(\"Incorrecto. Intenta de nuevo.\")\n",
        "        else:\n",
        "          print(\"Ese no es un color válido.\")\n",
        "    if not adivinado:\n",
        "        print(f\"No adivinaste el color secreto. Era {color_secreto}.\")\n",
        "adivina_color()"
      ],
      "metadata": {
        "id": "lit-uUcR-Inc"
      },
      "execution_count": null,
      "outputs": []
    },
    {
      "cell_type": "markdown",
      "source": [
        "21. Desarrolla un programa que muestre los números pares del 1 al 100."
      ],
      "metadata": {
        "id": "QyDrPBwJ9dBV"
      }
    },
    {
      "cell_type": "code",
      "source": [
        "def even_numbers():\n",
        "  even_dict = {}\n",
        "  for i in range(2, 101, 2):\n",
        "    even_dict[i] = i\n",
        "  print(\"Números pares del 1 al 100:\")\n",
        "  for key, value in even_dict.items():\n",
        "    print(value, end=\" \")\n",
        "even_numbers()"
      ],
      "metadata": {
        "id": "pkJWFLTB-bZV"
      },
      "execution_count": null,
      "outputs": []
    },
    {
      "cell_type": "markdown",
      "source": [
        "22. Crea un programa que calcule la suma de los dígitos de un número."
      ],
      "metadata": {
        "id": "kNBhffFc9oah"
      }
    },
    {
      "cell_type": "code",
      "source": [
        "def sum_digits(number):\n",
        "\n",
        "  if not isinstance(number, int):\n",
        "    return\n",
        "  digit_values = {}\n",
        "  number_str = str(abs(number))\n",
        "  digit_sum = 0\n",
        "  for digit in number_str:\n",
        "    digit_sum += int(digit)\n",
        "    digit_values[digit] = int(digit)\n",
        "  return digit_sum, digit_values\n",
        "number = 12345\n",
        "digit_sum, digit_values = sum_digits(number)\n",
        "\n",
        "print(f\"The sum of the digits of {number} is: {digit_sum}\")\n",
        "print(f\"Digit values: {digit_values}\")\n",
        "number = -12345\n",
        "digit_sum, digit_values = sum_digits(number)\n",
        "print(f\"The sum of the digits of {number} is: {digit_sum}\")\n",
        "print(f\"Digit values: {digit_values}\")\n",
        "number = 12.5\n",
        "result = sum_digits(number)\n",
        "print(f\"Result: {result}\")"
      ],
      "metadata": {
        "id": "jTdZIOnh-jJn"
      },
      "execution_count": null,
      "outputs": []
    },
    {
      "cell_type": "markdown",
      "source": [
        "23. Escribe un programa que determine si un número es primo."
      ],
      "metadata": {
        "id": "U-N1zKd59sqI"
      }
    },
    {
      "cell_type": "code",
      "source": [
        "def es_primo(numero):\n",
        "  primos_encontrados = {}\n",
        "  if numero <= 1:\n",
        "    return {\"es_primo\": False, \"primos_encontrados\": primos_encontrados}\n",
        "  for i in range(2, int(numero**0.5) + 1):\n",
        "    if numero % i == 0:\n",
        "      return {\"es_primo\": False, \"primos_encontrados\": primos_encontrados}\n",
        "    else:\n",
        "      if i not in primos_encontrados:\n",
        "          primos_encontrados[i] = i\n",
        "  primos_encontrados[numero] = numero\n",
        "  return {\"es_primo\": True, \"primos_encontrados\": primos_encontrados}\n",
        "\n",
        "numero = int(input(\"Introduce un número entero positivo: \"))\n",
        "resultado = es_primo(numero)\n",
        "\n",
        "if resultado[\"es_primo\"]:\n",
        "    print(f\"{numero} es un número primo.\")\n",
        "    print(\"Números primos encontrados:\", resultado[\"primos_encontrados\"])\n",
        "else:\n",
        "    print(f\"{numero} no es un número primo.\")\n",
        "    print(\"Números primos encontrados:\", resultado[\"primos_encontrados\"])"
      ],
      "metadata": {
        "id": "pVbrcrG8-kbx"
      },
      "execution_count": null,
      "outputs": []
    },
    {
      "cell_type": "markdown",
      "source": [
        "24. Desarrolla un programa que muestre el patrón de un triángulo con asteriscos."
      ],
      "metadata": {
        "id": "j0g_ZCwP9v4t"
      }
    },
    {
      "cell_type": "code",
      "source": [
        "def triangle_pattern(rows):\n",
        "    for i in range(1, rows + 1):\n",
        "        spaces = \" \" * (rows - i)\n",
        "        stars = \"*\" * (2 * i - 1)\n",
        "        print(spaces + stars)\n",
        "\n",
        "rows = int(input(\"Enter the number of rows for the triangle: \"))\n",
        "triangle_pattern(rows)"
      ],
      "metadata": {
        "id": "wivFe3xI-o76"
      },
      "execution_count": null,
      "outputs": []
    },
    {
      "cell_type": "markdown",
      "source": [
        "25. Crea un programa que calcule la potencia de un número sin usar el operador **."
      ],
      "metadata": {
        "id": "RiENS99w9zUh"
      }
    },
    {
      "cell_type": "code",
      "source": [
        "def potencia(base, exponente):\n",
        "  if exponente == 0:\n",
        "    return 1\n",
        "  elif exponente < 0:\n",
        "    return 1 / potencia(base, -exponente)\n",
        "  else:\n",
        "    resultado = 1\n",
        "    for _ in range(exponente):\n",
        "      resultado *= base\n",
        "    return resultado\n",
        "\n",
        "base = float(input(\"Introduce la base: \"))\n",
        "exponente = int(input(\"Introduce el exponente: \"))\n",
        "resultado = potencia(base, exponente)\n",
        "print(f\"{base} elevado a {exponente} es igual a {resultado}\")"
      ],
      "metadata": {
        "id": "WDTluQCU-rdS"
      },
      "execution_count": null,
      "outputs": []
    },
    {
      "cell_type": "markdown",
      "source": [
        "**Ejercicios adicionales**"
      ],
      "metadata": {
        "id": "ADyd2U1E93GN"
      }
    },
    {
      "cell_type": "markdown",
      "source": [
        "1."
      ],
      "metadata": {
        "id": "aNLoHjeT99-2"
      }
    },
    {
      "cell_type": "code",
      "source": [
        "def divisibles_por_seis():\n",
        "\n",
        "  divisibles = {}\n",
        "  for i in range(1, 61):\n",
        "    if i % 6 == 0:\n",
        "      divisibles[i] = i\n",
        "  return divisibles\n",
        "numeros_divisibles = divisibles_por_seis()\n",
        "numeros_divisibles"
      ],
      "metadata": {
        "id": "gT_jzdLS-wJK"
      },
      "execution_count": null,
      "outputs": []
    },
    {
      "cell_type": "markdown",
      "source": [
        "2."
      ],
      "metadata": {
        "id": "wCMYsvdn9_Kj"
      }
    },
    {
      "cell_type": "code",
      "source": [
        "def nombres_con_a(lista_nombres):\n",
        "    nombres_a = []\n",
        "    for nombre in lista_nombres:\n",
        "        if nombre.startswith(\"A\") or nombre.startswith(\"a\"):\n",
        "            nombres_a.append(nombre)\n",
        "    return nombres_a\n",
        "nombres = [\"Ana\", \"Pedro\", \"Alberto\", \"Carlos\", \"Antonela\", \"Felipe\"]\n",
        "nombres_que_empiezan_con_a = nombres_con_a(nombres)\n",
        "nombres_que_empiezan_con_a"
      ],
      "metadata": {
        "id": "vAoVtKLj-w3U"
      },
      "execution_count": null,
      "outputs": []
    },
    {
      "cell_type": "markdown",
      "source": [
        "3."
      ],
      "metadata": {
        "id": "vt7ORkWT-Ak0"
      }
    },
    {
      "cell_type": "code",
      "source": [
        "def primos_hasta_70():\n",
        "    primos = {}\n",
        "    for num in range(2, 71):\n",
        "        es_primo = True\n",
        "        for i in range(2, int(num**0.5) + 1):\n",
        "            if num % i == 0:\n",
        "                es_primo = False\n",
        "                break\n",
        "        if es_primo:\n",
        "            primos[num] = num\n",
        "    return primos\n",
        "primos = primos_hasta_70()\n",
        "print(*primos.keys())"
      ],
      "metadata": {
        "id": "Rda3B3M1-xfr"
      },
      "execution_count": null,
      "outputs": []
    }
  ]
}