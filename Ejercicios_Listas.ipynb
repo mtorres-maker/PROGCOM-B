{
  "nbformat": 4,
  "nbformat_minor": 0,
  "metadata": {
    "colab": {
      "provenance": []
    },
    "kernelspec": {
      "name": "python3",
      "display_name": "Python 3"
    },
    "language_info": {
      "name": "python"
    }
  },
  "cells": [
    {
      "cell_type": "markdown",
      "source": [
        "1. Todos los números divisibles por 6 del 1 al 60."
      ],
      "metadata": {
        "id": "g2dSWH9O6EcN"
      }
    },
    {
      "cell_type": "code",
      "execution_count": 70,
      "metadata": {
        "colab": {
          "base_uri": "https://localhost:8080/"
        },
        "id": "htCNa3KO3iV7",
        "outputId": "e4e26dd1-646b-48ee-8a3d-fe094419408f"
      },
      "outputs": [
        {
          "output_type": "execute_result",
          "data": {
            "text/plain": [
              "[0, 6, 12, 18, 24, 30, 36, 42, 48, 54, 60]"
            ]
          },
          "metadata": {},
          "execution_count": 70
        }
      ],
      "source": [
        "D6 = []\n",
        "for i in range(0,61):\n",
        "  if i%6==0:\n",
        "   D6.append(i)\n",
        "D6"
      ]
    },
    {
      "cell_type": "markdown",
      "source": [
        "2. Todos los nombres que empiecen por \"A\" de una lista de nombres"
      ],
      "metadata": {
        "id": "GIiKogolBIDk"
      }
    },
    {
      "cell_type": "code",
      "source": [
        "n = [\"Armando\", \"Jose\", \"Miguel\", \"Abel\", \"Juana\", \"Ana\"]\n",
        "Na=[]\n",
        "for nombre in n:\n",
        "  if nombre.startswith(\"A\"):\n",
        "    Na.append(nombre)\n",
        "Na"
      ],
      "metadata": {
        "colab": {
          "base_uri": "https://localhost:8080/"
        },
        "id": "j5QSFG45Ecuu",
        "outputId": "1a17dcf0-c5aa-4d13-95c9-246b464ef6d4"
      },
      "execution_count": 77,
      "outputs": [
        {
          "output_type": "execute_result",
          "data": {
            "text/plain": [
              "['Armando', 'Abel', 'Ana']"
            ]
          },
          "metadata": {},
          "execution_count": 77
        }
      ]
    },
    {
      "cell_type": "markdown",
      "source": [
        "3. Todos los números primos entre 0 y 70"
      ],
      "metadata": {
        "id": "SeyGLmgQGHBO"
      }
    },
    {
      "cell_type": "code",
      "source": [
        "def p(num):\n",
        "    if num <= 1:\n",
        "        return False\n",
        "    if num <= 3:\n",
        "        return True\n",
        "    if num % 2 == 0 or num % 3 == 0:\n",
        "        return False\n",
        "    i = 5\n",
        "    while i * i <= num:\n",
        "        if num % i == 0 or num % (i + 2) == 0:\n",
        "            return False\n",
        "        i += 6\n",
        "    return True\n",
        "\n",
        "primos = []\n",
        "for i in range(2, 71):\n",
        "    if p(i):\n",
        "        primos.append(i)\n",
        "\n",
        "primos\n"
      ],
      "metadata": {
        "colab": {
          "base_uri": "https://localhost:8080/"
        },
        "id": "RNhvKfJ4GGNn",
        "outputId": "26fcd674-3617-40ae-f920-c4b2b548b39c"
      },
      "execution_count": 91,
      "outputs": [
        {
          "output_type": "execute_result",
          "data": {
            "text/plain": [
              "[2, 3, 5, 7, 11, 13, 17, 19, 23, 29, 31, 37, 41, 43, 47, 53, 59, 61, 67]"
            ]
          },
          "metadata": {},
          "execution_count": 91
        }
      ]
    }
  ]
}