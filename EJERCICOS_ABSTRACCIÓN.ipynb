{
  "nbformat": 4,
  "nbformat_minor": 0,
  "metadata": {
    "colab": {
      "provenance": [],
      "authorship_tag": "ABX9TyMzID3ec/AuyhNX0H/T5WFv",
      "include_colab_link": true
    },
    "kernelspec": {
      "name": "python3",
      "display_name": "Python 3"
    },
    "language_info": {
      "name": "python"
    }
  },
  "cells": [
    {
      "cell_type": "markdown",
      "metadata": {
        "id": "view-in-github",
        "colab_type": "text"
      },
      "source": [
        "<a href=\"https://colab.research.google.com/github/mtorres-maker/PROGCOM-B/blob/main/EJERCICOS_ABSTRACCI%C3%93N.ipynb\" target=\"_parent\"><img src=\"https://colab.research.google.com/assets/colab-badge.svg\" alt=\"Open In Colab\"/></a>"
      ]
    },
    {
      "cell_type": "markdown",
      "source": [
        "1."
      ],
      "metadata": {
        "id": "GtKryV5ne14o"
      }
    },
    {
      "cell_type": "code",
      "execution_count": 1,
      "metadata": {
        "colab": {
          "base_uri": "https://localhost:8080/"
        },
        "id": "KzHwBIpxc_GL",
        "outputId": "5fb0b5a5-b627-47a9-ec8a-246824fd74e4"
      },
      "outputs": [
        {
          "output_type": "stream",
          "name": "stdout",
          "text": [
            "Hola, Carlos\n"
          ]
        }
      ],
      "source": [
        "class Saludo:\n",
        "\n",
        "    def saludar(self, nombre):\n",
        "        print(f\"Hola, {nombre}\")\n",
        "\n",
        "mi_saludo = Saludo()\n",
        "\n",
        "mi_saludo.saludar(\"Carlos\")"
      ]
    },
    {
      "cell_type": "markdown",
      "source": [
        "2."
      ],
      "metadata": {
        "id": "wsuAZZzTe_53"
      }
    },
    {
      "cell_type": "code",
      "source": [
        "class Numero:\n",
        "    def __init__(self, valor):\n",
        "        self.valor = valor\n",
        "\n",
        "    def es_par(self):\n",
        "        return self.valor % 2 == 0\n",
        "\n",
        "numero1 = Numero(4)\n",
        "numero2 = Numero(7)\n",
        "numero3 = Numero(10)\n",
        "\n",
        "print(f\"{numero1.valor} es par: {numero1.es_par()}\")\n",
        "print(f\"{numero2.valor} es par: {numero2.es_par()}\")\n",
        "print(f\"{numero3.valor} es par: {numero3.es_par()}\")"
      ],
      "metadata": {
        "colab": {
          "base_uri": "https://localhost:8080/"
        },
        "id": "cpgKA3mbe_qn",
        "outputId": "10ebf1b2-2db8-4233-c6f2-8ccc14ded57a"
      },
      "execution_count": 2,
      "outputs": [
        {
          "output_type": "stream",
          "name": "stdout",
          "text": [
            "4 es par: True\n",
            "7 es par: False\n",
            "10 es par: True\n"
          ]
        }
      ]
    },
    {
      "cell_type": "markdown",
      "source": [
        "3."
      ],
      "metadata": {
        "id": "z6ojrV7Afj5G"
      }
    },
    {
      "cell_type": "code",
      "source": [
        "class Rectangulo:\n",
        "    def __init__(self, base, altura):\n",
        "        self.base = base\n",
        "        self.altura = altura\n",
        "\n",
        "    def area(self):\n",
        "        return self.base * self.altura\n",
        "\n",
        "mi_rectangulo = Rectangulo(5, 3)\n",
        "\n",
        "print(f\"El área del rectángulo es: {mi_rectangulo.area()}\")"
      ],
      "metadata": {
        "id": "VgX1Fg60fkx4"
      },
      "execution_count": null,
      "outputs": []
    },
    {
      "cell_type": "markdown",
      "source": [
        "4."
      ],
      "metadata": {
        "id": "XrVD8Xd_f2c-"
      }
    },
    {
      "cell_type": "code",
      "source": [
        "class Temperatura:\n",
        "    def __init__(self, celsius):\n",
        "        self.celsius = celsius\n",
        "\n",
        "    def a_fahrenheit(self):\n",
        "        return self.celsius * 1.8 + 32\n",
        "\n",
        "temp = Temperatura(25)\n",
        "\n",
        "print(f\"{temp.celsius}°C en Fahrenheit es: {temp.a_fahrenheit()}°F\")\n"
      ],
      "metadata": {
        "colab": {
          "base_uri": "https://localhost:8080/"
        },
        "id": "0nhCUiL6f3lu",
        "outputId": "8cc3de2c-1ea8-4367-f052-61f4e7f4d4b4"
      },
      "execution_count": 3,
      "outputs": [
        {
          "output_type": "stream",
          "name": "stdout",
          "text": [
            "25°C en Fahrenheit es: 77.0°F\n"
          ]
        }
      ]
    },
    {
      "cell_type": "markdown",
      "source": [
        "5."
      ],
      "metadata": {
        "id": "kdC_JHylgSqm"
      }
    },
    {
      "cell_type": "code",
      "source": [
        "class Palabra:\n",
        "    def __init__(self, texto):\n",
        "        self.texto = texto\n",
        "\n",
        "    def contar_vocales(self):\n",
        "        vocales = 'aeiouAEIOU'\n",
        "        return sum(1 for letra in self.texto if letra in vocales)\n",
        "\n",
        "palabra1 = Palabra(\"Hola\")\n",
        "palabra2 = Palabra(\"Computadora\")\n",
        "palabra3 = Palabra(\"Python\")\n",
        "\n",
        "print(f\"Número de vocales en '{palabra1.texto}': {palabra1.contar_vocales()}\")\n",
        "print(f\"Número de vocales en '{palabra2.texto}': {palabra2.contar_vocales()}\")\n",
        "print(f\"Número de vocales en '{palabra3.texto}': {palabra3.contar_vocales()}\")\n"
      ],
      "metadata": {
        "id": "uvNVs5GfgVM2"
      },
      "execution_count": null,
      "outputs": []
    },
    {
      "cell_type": "markdown",
      "source": [
        "6."
      ],
      "metadata": {
        "id": "jvHmQVBTk5Cs"
      }
    },
    {
      "cell_type": "code",
      "source": [
        "class Palindromo:\n",
        "    def __init__(self, palabra):\n",
        "        self.palabra = palabra\n",
        "\n",
        "    def es_palindromo(self):\n",
        "        limpia = self.palabra.lower().replace(\" \", \"\")\n",
        "        return limpia == limpia[::-1]\n",
        "\n",
        "palabra1 = Palindromo(\"reconocer\")\n",
        "palabra2 = Palindromo(\"luz\")\n",
        "palabra3 = Palindromo(\"oso\")\n",
        "\n",
        "print(f\"'{palabra1.palabra}' es palíndromo: {palabra1.es_palindromo()}\")\n",
        "print(f\"'{palabra2.palabra}' es palíndromo: {palabra2.es_palindromo()}\")\n",
        "print(f\"'{palabra3.palabra}' es palíndromo: {palabra3.es_palindromo()}\")\n"
      ],
      "metadata": {
        "id": "1cZ0NvYOk52i"
      },
      "execution_count": null,
      "outputs": []
    },
    {
      "cell_type": "markdown",
      "source": [
        "7."
      ],
      "metadata": {
        "id": "TMntk_t4lQ2r"
      }
    },
    {
      "cell_type": "code",
      "source": [
        "class Dado:\n",
        "    def tirar(self):\n",
        "        import random\n",
        "        return random.randint(1, 6)\n",
        "\n",
        "mi_dado = Dado()\n",
        "\n",
        "print(f\"Lanzamiento 1: {mi_dado.tirar()}\")\n",
        "print(f\"Lanzamiento 2: {mi_dado.tirar()}\")\n",
        "print(f\"Lanzamiento 3: {mi_dado.tirar()}\")\n",
        "print(f\"Lanzamiento 4: {mi_dado.tirar()}\")\n"
      ],
      "metadata": {
        "id": "lQzWoT8ClR3S"
      },
      "execution_count": null,
      "outputs": []
    },
    {
      "cell_type": "markdown",
      "source": [
        "8."
      ],
      "metadata": {
        "id": "Vewomo8Nla9Z"
      }
    },
    {
      "cell_type": "code",
      "source": [
        "class ListaCuadrados:\n",
        "    def generar(self, n):\n",
        "        return [i**2 for i in range(1, n + 1)]\n",
        "\n",
        "cuadrados = ListaCuadrados()\n",
        "\n",
        "print(f\"Cuadrados de los primeros 5 números: {cuadrados.generar(5)}\")\n",
        "print(f\"Cuadrados de los primeros 10 números: {cuadrados.generar(10)}\")\n",
        "print(f\"Cuadrados de los primeros 3 números: {cuadrados.generar(3)}\")\n"
      ],
      "metadata": {
        "id": "VUgDeGoDlcJp"
      },
      "execution_count": null,
      "outputs": []
    },
    {
      "cell_type": "markdown",
      "source": [
        "9."
      ],
      "metadata": {
        "id": "hRdMdds5lnQR"
      }
    },
    {
      "cell_type": "code",
      "source": [
        "class Calculadora:\n",
        "    def operar(self, a, b, tipo):\n",
        "        if tipo == \"suma\":\n",
        "            return a + b\n",
        "        elif tipo == \"resta\":\n",
        "            return a - b\n",
        "        elif tipo == \"multiplicacion\":\n",
        "            return a * b\n",
        "        elif tipo == \"division\":\n",
        "            if b != 0:\n",
        "                return a / b\n",
        "            else:\n",
        "                return \"Error: división por cero\"\n",
        "        else:\n",
        "            return \"Operación no válida\"\n",
        "\n",
        "calc = Calculadora()\n",
        "\n",
        "print(f\"Suma: 5 + 3 = {calc.operar(5, 3, 'suma')}\")\n",
        "print(f\"Resta: 10 - 4 = {calc.operar(10, 4, 'resta')}\")\n",
        "print(f\"Multiplicación: 6 * 7 = {calc.operar(6, 7, 'multiplicacion')}\")\n",
        "print(f\"División: 20 / 4 = {calc.operar(20, 4, 'division')}\")\n",
        "print(f\"División por cero: 8 / 0 = {calc.operar(8, 0, 'division')}\")\n",
        "print(f\"Operación no válida: {calc.operar(2, 2, 'potencia')}\")\n"
      ],
      "metadata": {
        "id": "K5oRrJujloK5"
      },
      "execution_count": null,
      "outputs": []
    },
    {
      "cell_type": "markdown",
      "source": [
        "10."
      ],
      "metadata": {
        "id": "Uo85R9splyhZ"
      }
    },
    {
      "cell_type": "code",
      "source": [
        "class GeneradorContrasena:\n",
        "    def crear(self, nombre, año):\n",
        "        return f\"{nombre}{año}@\"\n",
        "\n",
        "generador = GeneradorContrasena()\n",
        "\n",
        "print(f\"Contraseña 1: {generador.crear('Carlos', 1995)}\")\n",
        "print(f\"Contraseña 2: {generador.crear('Ana', 2020)}\")\n",
        "print(f\"Contraseña 3: {generador.crear('Luis', 1987)}\")\n"
      ],
      "metadata": {
        "id": "CRPJgP1glzY5"
      },
      "execution_count": null,
      "outputs": []
    }
  ]
}