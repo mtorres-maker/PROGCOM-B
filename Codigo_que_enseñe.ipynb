{
  "nbformat": 4,
  "nbformat_minor": 0,
  "metadata": {
    "colab": {
      "provenance": [],
      "authorship_tag": "ABX9TyNix0C5jgJrLb9xNu4q+YIE",
      "include_colab_link": true
    },
    "kernelspec": {
      "name": "python3",
      "display_name": "Python 3"
    },
    "language_info": {
      "name": "python"
    }
  },
  "cells": [
    {
      "cell_type": "markdown",
      "metadata": {
        "id": "view-in-github",
        "colab_type": "text"
      },
      "source": [
        "<a href=\"https://colab.research.google.com/github/mtorres-maker/PROGCOM-B/blob/main/Codigo_que_ense%C3%B1e.ipynb\" target=\"_parent\"><img src=\"https://colab.research.google.com/assets/colab-badge.svg\" alt=\"Open In Colab\"/></a>"
      ]
    },
    {
      "cell_type": "code",
      "execution_count": null,
      "metadata": {
        "colab": {
          "base_uri": "https://localhost:8080/"
        },
        "id": "gFWtBOhhkp1b",
        "outputId": "bce6c505-506b-4c64-93e1-e5a91ce6fd99"
      },
      "outputs": [
        {
          "output_type": "stream",
          "name": "stdout",
          "text": [
            "\n",
            "📚 Aprende números en alemán\n",
            "1️⃣ Ver la lista de números en alemán\n",
            "2️⃣ Buscar la traducción de un número\n",
            "3️⃣ Jugar un quiz\n",
            "4️⃣ Salir\n",
            "👉 Elige una opción: 4\n",
            "👋 ¡Gracias por aprender alemán! Auf Wiedersehen! 🇩🇪\n"
          ]
        }
      ],
      "source": [
        "import random\n",
        "\n",
        "numeros = {\n",
        "    1: \"eins\", 2: \"zwei\", 3: \"drei\", 4: \"vier\", 5: \"fünf\", 6: \"sechs\", 7: \"sieben\", 8: \"acht\", 9: \"neun\", 10: \"zehn\",\n",
        "    11: \"elf\", 12: \"zwölf\", 13: \"dreizehn\", 14: \"vierzehn\", 15: \"fünfzehn\", 16: \"sechzehn\", 17: \"siebzehn\", 18: \"achtzehn\", 19: \"neunzehn\", 20: \"zwanzig\",\n",
        "    21: \"einundzwanzig\", 22: \"zweiundzwanzig\", 23: \"dreiundzwanzig\", 24: \"vierundzwanzig\", 25: \"fünfundzwanzig\", 26: \"sechsundzwanzig\", 27: \"siebenundzwanzig\", 28: \"achtundzwanzig\", 29: \"neunundzwanzig\", 30: \"dreißig\",\n",
        "    31: \"einunddreißig\", 32: \"zweiunddreißig\", 33: \"dreiunddreißig\", 34: \"vierunddreißig\", 35: \"fünfunddreißig\", 36: \"sechsunddreißig\", 37: \"siebenunddreißig\", 38: \"achtunddreißig\", 39: \"neununddreißig\", 40: \"vierzig\",\n",
        "    41: \"einundvierzig\", 42: \"zweiundvierzig\", 43: \"dreiundvierzig\", 44: \"vierundvierzig\", 45: \"fünfundvierzig\", 46: \"sechsundvierzig\", 47: \"siebenundvierzig\", 48: \"achtundvierzig\", 49: \"neunundvierzig\", 50: \"fünfzig\",\n",
        "    51: \"einundfünfzig\", 52: \"zweiundfünfzig\", 53: \"dreiundfünfzig\", 54: \"vierundfünfzig\", 55: \"fünfundfünfzig\", 56: \"sechsundfünfzig\", 57: \"siebenundfünfzig\", 58: \"achtundfünfzig\", 59: \"neunundfünfzig\", 60: \"sechzig\",\n",
        "    61: \"einundsechzig\", 62: \"zweiundsechzig\", 63: \"dreiundsechzig\", 64: \"vierundsechzig\", 65: \"fünfundsechzig\", 66: \"sechsundsechzig\", 67: \"siebenundsechzig\", 68: \"achtundsechzig\", 69: \"neunundsechzig\", 70: \"siebzig\",\n",
        "    71: \"einundsiebzig\", 72: \"zweiundsiebzig\", 73: \"dreiundsiebzig\", 74: \"vierundsiebzig\", 75: \"fünfundsiebzig\", 76: \"sechsundsiebzig\", 77: \"siebenundsiebzig\", 78: \"achtundsiebzig\", 79: \"neunundsiebzig\", 80: \"achtzig\",\n",
        "    81: \"einundachtzig\", 82: \"zweiundachtzig\", 83: \"dreiundachtzig\", 84: \"vierundachtzig\", 85: \"fünfundachtzig\", 86: \"sechsundachtzig\", 87: \"siebenundachtzig\", 88: \"achtundachtzig\", 89: \"neunundachtzig\", 90: \"neunzig\",\n",
        "    91: \"einundneunzig\", 92: \"zweiundneunzig\", 93: \"dreiundneunzig\", 94: \"vierundneunzig\", 95: \"fünfundneunzig\", 96: \"sechsundneunzig\", 97: \"siebenundneunzig\", 98: \"achtundneunzig\", 99: \"neunundneunzig\", 100: \"hundert\"\n",
        "}\n",
        "\n",
        "def mostrar_numeros():\n",
        "    \"\"\"Muestra los números del 1 al 100 en alemán\"\"\"\n",
        "    print(\"\\n🔢 Números en alemán:\")\n",
        "    for num, palabra in numeros.items():\n",
        "        print(f\"{num} ➝ {palabra}\")\n",
        "\n",
        "def buscar_numero():\n",
        "    \"\"\"Permite buscar la traducción de un número específico\"\"\"\n",
        "    num = int(input(\"\\n🔍 Ingresa un número del 1 al 100: \"))\n",
        "    if num in numeros:\n",
        "        print(f\"✅ {num} en alemán es: {numeros[num]}\")\n",
        "    else:\n",
        "        print(\"❌ Número fuera de rango.\")\n",
        "\n",
        "def quiz():\n",
        "    \"\"\"Juego de preguntas para aprender los números en alemán\"\"\"\n",
        "    numero, palabra_correcta = random.choice(list(numeros.items()))\n",
        "    respuesta = input(f\"❓ ¿Cómo se dice '{numero}' en alemán? \").strip().lower()\n",
        "\n",
        "    if respuesta == palabra_correcta:\n",
        "        print(\"✅ ¡Correcto!\")\n",
        "    else:\n",
        "        print(f\"❌ Incorrecto. La respuesta correcta es '{palabra_correcta}'\")\n",
        "\n",
        "while True:\n",
        "    print(\"\\n📚 Aprende números en alemán\")\n",
        "    print(\"1️⃣ Ver la lista de números en alemán\")\n",
        "    print(\"2️⃣ Buscar la traducción de un número\")\n",
        "    print(\"3️⃣ Jugar un quiz\")\n",
        "    print(\"4️⃣ Salir\")\n",
        "\n",
        "    opcion = input(\"👉 Elige una opción: \")\n",
        "\n",
        "    if opcion == \"1\":\n",
        "        mostrar_numeros()\n",
        "    elif opcion == \"2\":\n",
        "        buscar_numero()\n",
        "    elif opcion == \"3\":\n",
        "        quiz()\n",
        "    elif opcion == \"4\":\n",
        "        print(\"👋 ¡Gracias por aprender alemán! Auf Wiedersehen! 🇩🇪\")\n",
        "        break\n",
        "    else:\n",
        "        print(\"⚠️ Opción no válida, intenta de nuevo.\")\n"
      ]
    }
  ]
}