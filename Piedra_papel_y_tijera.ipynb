{
  "nbformat": 4,
  "nbformat_minor": 0,
  "metadata": {
    "colab": {
      "provenance": [],
      "authorship_tag": "ABX9TyPNXu0WWi2LVryHu6L25i61",
      "include_colab_link": true
    },
    "kernelspec": {
      "name": "python3",
      "display_name": "Python 3"
    },
    "language_info": {
      "name": "python"
    }
  },
  "cells": [
    {
      "cell_type": "markdown",
      "metadata": {
        "id": "view-in-github",
        "colab_type": "text"
      },
      "source": [
        "<a href=\"https://colab.research.google.com/github/mtorres-maker/PROGCOM-B/blob/main/Piedra_papel_y_tijera.ipynb\" target=\"_parent\"><img src=\"https://colab.research.google.com/assets/colab-badge.svg\" alt=\"Open In Colab\"/></a>"
      ]
    },
    {
      "cell_type": "markdown",
      "source": [
        "\n",
        "# Pieda, papel, tijeras...\n",
        "\n",
        "\n"
      ],
      "metadata": {
        "id": "tzsRlSMvY7HG"
      }
    },
    {
      "cell_type": "code",
      "source": [
        "import random\n",
        "\n",
        "# Mapeo de elementos sin emojis\n",
        "nombres_elementos = {\n",
        "    \"piedra\": \"🪨 Piedra\", \"papel\": \"📜 Papel\", \"tijeras\": \"✂️ Tijeras\", \"lagarto\": \"🦎 Lagarto\", \"spock\": \"🖖 Spock\",\n",
        "    \"pistola\": \"🔫 Pistola\", \"rayo\": \"⚡ Rayo\", \"fuego\": \"🔥 Fuego\", \"diablo\": \"😈 Diablo\", \"dragón\": \"🐉 Dragón\",\n",
        "    \"agua\": \"💧 Agua\", \"aire\": \"💨 Aire\", \"esponja\": \"🧽 Esponja\", \"lobo\": \"🐺 Lobo\", \"árbol\": \"🌳 Árbol\",\n",
        "    \"humano\": \"🧑 Humano\", \"serpiente\": \"🐍 Serpiente\", \"águila\": \"🦅 Águila\", \"escudo\": \"🛡️ Escudo\",\n",
        "    \"unicornio\": \"🦄 Unicornio\", \"ovni\": \"🛸 OVNI\"\n",
        "}\n",
        "\n",
        "# Lista de elementos con emojis\n",
        "elementos = list(nombres_elementos.values())\n",
        "\n",
        "# Reglas del juego\n",
        "reglas = {\n",
        "    \"🪨 Piedra\": [\"✂️ Tijeras\", \"🦎 Lagarto\", \"🧽 Esponja\", \"🐺 Lobo\", \"😈 Diablo\"],\n",
        "    \"📜 Papel\": [\"🪨 Piedra\", \"🖖 Spock\", \"🔫 Pistola\", \"💨 Aire\", \"💧 Agua\"],\n",
        "    \"✂️ Tijeras\": [\"📜 Papel\", \"🦎 Lagarto\", \"🌳 Árbol\", \"🧑 Humano\", \"🐍 Serpiente\"],\n",
        "    \"🦎 Lagarto\": [\"🖖 Spock\", \"📜 Papel\", \"💨 Aire\", \"💧 Agua\", \"🐺 Lobo\"],\n",
        "    \"🖖 Spock\": [\"✂️ Tijeras\", \"🪨 Piedra\", \"🔥 Fuego\", \"😈 Diablo\", \"🐉 Dragón\"],\n",
        "    \"🔫 Pistola\": [\"🪨 Piedra\", \"✂️ Tijeras\", \"🦎 Lagarto\", \"🐍 Serpiente\", \"🧑 Humano\"],\n",
        "    \"⚡ Rayo\": [\"🔫 Pistola\", \"🖖 Spock\", \"✂️ Tijeras\", \"🐉 Dragón\", \"🌳 Árbol\"],\n",
        "    \"🔥 Fuego\": [\"📜 Papel\", \"🌳 Árbol\", \"🐍 Serpiente\", \"🐺 Lobo\", \"🧽 Esponja\"],\n",
        "    \"😈 Diablo\": [\"✂️ Tijeras\", \"🖖 Spock\", \"🔫 Pistola\", \"🪨 Piedra\", \"🐺 Lobo\"],\n",
        "    \"🐉 Dragón\": [\"💧 Agua\", \"💨 Aire\", \"🐍 Serpiente\", \"✂️ Tijeras\", \"📜 Papel\"],\n",
        "    \"💧 Agua\": [\"🔥 Fuego\", \"🪨 Piedra\", \"🔫 Pistola\", \"😈 Diablo\", \"🧽 Esponja\"],\n",
        "    \"💨 Aire\": [\"⚡ Rayo\", \"🔫 Pistola\", \"🔥 Fuego\", \"😈 Diablo\", \"🐍 Serpiente\"],\n",
        "    \"🧽 Esponja\": [\"📜 Papel\", \"💧 Agua\", \"💨 Aire\", \"🐉 Dragón\", \"🧑 Humano\"],\n",
        "    \"🐺 Lobo\": [\"🔥 Fuego\", \"🐍 Serpiente\", \"🧑 Humano\", \"🧽 Esponja\", \"📜 Papel\"],\n",
        "    \"🌳 Árbol\": [\"💧 Agua\", \"🧽 Esponja\", \"📜 Papel\", \"🐺 Lobo\", \"✂️ Tijeras\"],\n",
        "    \"🧑 Humano\": [\"🐺 Lobo\", \"🌳 Árbol\", \"🧽 Esponja\", \"🐍 Serpiente\", \"😈 Diablo\"],\n",
        "    \"🐍 Serpiente\": [\"🌳 Árbol\", \"📜 Papel\", \"💨 Aire\", \"🔥 Fuego\", \"🦎 Lagarto\"],\n",
        "    \"🦅 Águila\": [\"🐍 Serpiente\", \"🐉 Dragón\", \"🧑 Humano\", \"⚡ Rayo\", \"💨 Aire\"],\n",
        "    \"🛡️ Escudo\": [\"🔫 Pistola\", \"🦅 Águila\", \"🪨 Piedra\", \"🐺 Lobo\", \"🖖 Spock\"],\n",
        "    \"🦄 Unicornio\": [\"🔥 Fuego\", \"😈 Diablo\", \"🐉 Dragón\", \"🛡️ Escudo\", \"🧑 Humano\"],\n",
        "    \"🛸 OVNI\": [\"⚡ Rayo\", \"💧 Agua\", \"💨 Aire\", \"🔫 Pistola\", \"🦄 Unicornio\"]\n",
        "}\n",
        "\n",
        "def determinar_ganador(jugador, computadora):\n",
        "    if jugador == computadora:\n",
        "        return f\"🤝 ¡Empate!\\n\\n🎭 Tú elegiste: {jugador} \\n🖥️ La computadora eligió: {computadora}\"\n",
        "    elif computadora in reglas[jugador]:\n",
        "        return f\"🎉 ¡Tú ganas! 🎊\\n\\n🎭 Tú elegiste: {jugador} \\n🖥️ La computadora eligió: {computadora}\"\n",
        "    else:\n",
        "        return f\"💻 La computadora gana 🏆\\n\\n🎭 Tú elegiste: {jugador} \\n🖥️ La computadora eligió: {computadora}\"\n",
        "\n",
        "def jugar():\n",
        "    print(\"\\n🎮 ¡Bienvenido al juego extendido de Piedra, Papel, Tijeras con 19 elementos! 🎮\")\n",
        "    print(\"📜 Opciones disponibles: \", \", \".join(elementos))\n",
        "\n",
        "    usuario = input(\"🧐 Elige un elemento: \").strip().lower()\n",
        "    while usuario not in nombres_elementos:\n",
        "        print(\"🚫 Elección no válida. Inténtalo de nuevo.\")\n",
        "        usuario = input(\"🧐 Elige un elemento: \").strip().lower()\n",
        "\n",
        "    jugador = nombres_elementos[usuario]\n",
        "    computadora = random.choice(elementos)\n",
        "    print(f\"🤖 Computadora elige: {computadora}\")\n",
        "\n",
        "    print(determinar_ganador(jugador, computadora))\n",
        "\n",
        "if __name__ == \"__main__\":\n",
        "    while True:\n",
        "        jugar()\n",
        "        otra = input(\"🔄 ¿Quieres jugar otra vez? (s/n): \").lower()\n",
        "        if otra != \"s\":\n",
        "            print(\"👋 ¡Gracias por jugar! ¡Hasta la próxima! 🎮\")\n",
        "            break\n",
        "\n"
      ],
      "metadata": {
        "id": "DHOQElS6dAmx"
      },
      "execution_count": null,
      "outputs": []
    }
  ]
}